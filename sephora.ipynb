{
 "cells": [
  {
   "cell_type": "markdown",
   "metadata": {
    "id": "U0gWhPriivuB"
   },
   "source": [
    "# Predicting the best Sephora moisturizer based on customer physical attributes\n",
    "\n",
    "DSCI 303: Machine Learning for Data Science\n",
    "\n",
    "Joshua Fang and Huijun Mao"
   ]
  },
  {
   "cell_type": "markdown",
   "metadata": {
    "id": "yUsq6iqLkE8Z"
   },
   "source": [
    "## Data description\n",
    "Source: https://www.kaggle.com/datasets/nadyinky/sephora-products-and-skincare-reviews\n",
    "\n",
    "This dataset was collected via Python scraper in March 2023 and contains:\n",
    "\n",
    "* information about all beauty products (over 8,000) from the Sephora online store, including product and brand names, prices, ingredients, ratings, and all features.\n",
    "* user reviews (about 1 million on over 2,000 products) of all products from the Skincare category, including user appearances, and review ratings by other users"
   ]
  },
  {
   "cell_type": "markdown",
   "metadata": {
    "id": "e1llyt3cjH_J"
   },
   "source": [
    "## Set up"
   ]
  },
  {
   "cell_type": "code",
   "execution_count": 1,
   "metadata": {
    "id": "bv5WPwFZp-Ze"
   },
   "outputs": [],
   "source": [
    "# Load packages\n",
    "import numpy as np\n",
    "import pandas as pd\n",
    "import matplotlib.pyplot as plt\n",
    "import seaborn as sns"
   ]
  },
  {
   "cell_type": "markdown",
   "metadata": {
    "id": "nOoZcOEal2Zo"
   },
   "source": [
    "## Load data sets"
   ]
  },
  {
   "cell_type": "code",
   "execution_count": 2,
   "metadata": {},
   "outputs": [
    {
     "name": "stdout",
     "output_type": "stream",
     "text": [
      "C:\\Users\\joshu\\Downloads\\archive\n"
     ]
    }
   ],
   "source": [
    "import os\n",
    "\n",
    "# Get current working directory\n",
    "path = os.getcwd()\n",
    "\n",
    "# Go to parent directory\n",
    "parent = os.path.abspath(os.path.join(path, os.pardir))\n",
    "\n",
    "# Go to Downloads\n",
    "downloads = os.path.join(parent, 'Downloads')\n",
    "\n",
    "# Go to archive folder\n",
    "archive = os.path.join(downloads, 'archive')\n",
    "print(archive)"
   ]
  },
  {
   "cell_type": "code",
   "execution_count": 3,
   "metadata": {
    "id": "2E1IfLbQkKpX"
   },
   "outputs": [],
   "source": [
    "import warnings\n",
    "warnings.filterwarnings('ignore')\n",
    "\n",
    "# Load product information data\n",
    "products = pd.read_csv(os.path.join(archive, 'product_info.csv'))\n",
    "\n",
    "# Load reviews data\n",
    "reviews0_250 = pd.read_csv(os.path.join(archive,'reviews_0-250.csv'))\n",
    "reviews250_500 = pd.read_csv(os.path.join(archive,'reviews_250-500.csv'))\n",
    "reviews500_750 = pd.read_csv(os.path.join(archive,'reviews_500-750.csv'))\n",
    "reviews750_1250 = pd.read_csv(os.path.join(archive,'reviews_750-1250.csv'))\n",
    "reviews1250_end = pd.read_csv(os.path.join(archive,'reviews_1250-end.csv'))"
   ]
  },
  {
   "cell_type": "markdown",
   "metadata": {
    "id": "UCyNFp_rjhIh"
   },
   "source": [
    "## Data wrangling"
   ]
  },
  {
   "cell_type": "code",
   "execution_count": 5,
   "metadata": {
    "id": "e-7JVNRiEGZy"
   },
   "outputs": [],
   "source": [
    "# Merge all reviews together\n",
    "total_reviews = pd.concat([reviews0_250, reviews250_500, reviews500_750, reviews750_1250, reviews1250_end], ignore_index=True)"
   ]
  },
  {
   "cell_type": "markdown",
   "metadata": {
    "id": "gWoIrd6SjQEF"
   },
   "source": [
    "## Data exploration"
   ]
  },
  {
   "cell_type": "code",
   "execution_count": 6,
   "metadata": {},
   "outputs": [
    {
     "name": "stdout",
     "output_type": "stream",
     "text": [
      "(8494, 27)\n",
      "(1094411, 19)\n"
     ]
    }
   ],
   "source": [
    "# Get dimensions of each data frame\n",
    "print(products.shape)\n",
    "print(total_reviews.shape)"
   ]
  },
  {
   "cell_type": "code",
   "execution_count": 26,
   "metadata": {
    "colab": {
     "base_uri": "https://localhost:8080/"
    },
    "id": "TYdsmwrQEdSk",
    "outputId": "50c78105-e267-48fa-9c81-fa0f708c26c3"
   },
   "outputs": [
    {
     "data": {
      "text/plain": [
       "array(['Fragrance', 'Bath & Body', 'Mini Size', 'Hair', 'Makeup',\n",
       "       'Skincare', 'Tools & Brushes', 'Men', 'Gifts'], dtype=object)"
      ]
     },
     "execution_count": 26,
     "metadata": {},
     "output_type": "execute_result"
    }
   ],
   "source": [
    "# Take a look at what kinds of products are there\n",
    "products['primary_category'].unique()"
   ]
  },
  {
   "cell_type": "code",
   "execution_count": 27,
   "metadata": {
    "colab": {
     "base_uri": "https://localhost:8080/"
    },
    "id": "W0SERJr7FOSk",
    "outputId": "d2226836-b6eb-4179-c4de-1d6fe92b9103"
   },
   "outputs": [
    {
     "data": {
      "text/plain": [
       "array(['Value & Gift Sets', 'Women', 'Body Moisturizers', 'Fragrance',\n",
       "       'Men', 'Candles & Home Scents', 'Body Care',\n",
       "       'Hair Styling & Treatments', 'Shampoo & Conditioner', 'Mini Size',\n",
       "       'Lip', 'Moisturizers', 'Treatments', 'Eye Care',\n",
       "       'Lip Balms & Treatments', 'Sunscreen', 'Cleansers', 'Masks',\n",
       "       'Skincare', 'Face', 'Eye', 'Cheek', 'Hair', 'Tools',\n",
       "       'Brushes & Applicators', 'Makeup Palettes', 'Beauty Tools',\n",
       "       'Accessories', 'Makeup', 'Bath & Shower', 'Wellness',\n",
       "       'High Tech Tools', 'Shop by Concern', nan, 'Self Tanners',\n",
       "       'Shaving', 'Hair Tools', 'Nail', 'Beauty Accessories',\n",
       "       'Beauty Supplements', 'Other Needs', 'Bath & Body'], dtype=object)"
      ]
     },
     "execution_count": 27,
     "metadata": {},
     "output_type": "execute_result"
    }
   ],
   "source": [
    "# Examine secondary categories\n",
    "products['secondary_category'].unique()"
   ]
  },
  {
   "cell_type": "code",
   "execution_count": 28,
   "metadata": {
    "colab": {
     "base_uri": "https://localhost:8080/"
    },
    "id": "9pWJsUFSFUwG",
    "outputId": "374cfbcb-9fba-4af7-e9fc-10fed2941e31"
   },
   "outputs": [
    {
     "data": {
      "text/plain": [
       "array(['Perfume Gift Sets', 'Perfume', 'Rollerballs & Travel Size',\n",
       "       'Body Lotions & Body Oils', nan, 'Cologne', 'Diffusers',\n",
       "       'Deodorant & Antiperspirant', 'Candles', 'Hair Masks',\n",
       "       'Leave-In Conditioner', 'Shampoo', 'Hair Oil',\n",
       "       'Hair Styling Products', 'Scalp Treatments', 'Conditioner',\n",
       "       'Lip Balm & Treatment', 'Moisturizers', 'Face Serums',\n",
       "       'Eye Creams & Treatments', 'Face Sunscreen',\n",
       "       'Face Wash & Cleansers', 'Face Oils', 'Toners', 'Face Masks',\n",
       "       'Facial Peels', 'Hand Cream & Foot Cream',\n",
       "       'Decollete & Neck Creams', 'Exfoliators', 'Hair Spray',\n",
       "       'Hair Primers', 'Tinted Moisturizer', 'Mascara',\n",
       "       'Setting Spray & Powder', 'Highlighter', 'Concealer', 'Eyebrow',\n",
       "       'Blush', 'Face Sets', 'Dry Shampoo', 'Curling Irons',\n",
       "       'Brushes & Combs', 'Hair Straighteners & Flat Irons',\n",
       "       'Hair Dryers', 'Eyeshadow', 'Lipstick', 'Eye Palettes', 'Contour',\n",
       "       'Lip Gloss', 'Eye Brushes', 'Foundation', 'False Eyelashes',\n",
       "       'Cheek Palettes', 'Lip Liner', 'Bronzer', 'Face Brushes',\n",
       "       'Tweezers & Eyebrow Tools', 'Eye Sets', 'Eye Primer', 'Eyeliner',\n",
       "       'Sharpeners', 'Accessories', 'Liquid Lipstick', 'Face Primer',\n",
       "       'Lip Sets', 'Body Wash & Shower Gel', 'BB & CC Cream', 'Eye Masks',\n",
       "       'Facial Rollers', 'Anti-Aging', 'Face Wipes',\n",
       "       'Blemish & Acne Treatments', 'Sponges & Applicators',\n",
       "       'Brush Cleaners', 'Makeup Removers', 'Brush Sets', 'Night Creams',\n",
       "       'Mists & Essences', 'Scrub & Exfoliants', 'Color Correct',\n",
       "       'Damaged Hair', 'Hair Thinning & Hair Loss', 'Color Care',\n",
       "       'Cologne Gift Sets', 'Lip Plumper', 'Beauty Supplements',\n",
       "       'Body Mist & Hair Mist', 'Cellulite & Stretch Marks',\n",
       "       'Body Sunscreen', 'Sheet Masks', 'For Body', 'For Face',\n",
       "       'Face Wash', 'Moisturizer & Treatments', 'Eye Cream',\n",
       "       'Skincare Sets', 'Aftershave', 'Facial Cleansing Brushes',\n",
       "       'Shaving', 'Hair Dye & Root Touch-Ups', 'Hair Supplements',\n",
       "       'Intimate Care', 'Hair Removal', 'Lip Stain', 'Eyelash Curlers',\n",
       "       'Makeup Bags & Travel Cases', 'Blotting Papers', 'BB & CC Creams',\n",
       "       'Under-Eye Concealer', 'Makeup & Travel Cases',\n",
       "       'Holistic Wellness', 'Teeth Whitening', 'Bath Soaks & Bubble Bath',\n",
       "       'Sunscreen', 'Body Products', 'Shampoo & Conditioner',\n",
       "       'Hand Sanitizer & Hand Soap', 'Lip Brushes',\n",
       "       'Manicure & Pedicure Tools'], dtype=object)"
      ]
     },
     "execution_count": 28,
     "metadata": {},
     "output_type": "execute_result"
    }
   ],
   "source": [
    "# Examine teriary categories\n",
    "products['tertiary_category'].unique()"
   ]
  },
  {
   "cell_type": "markdown",
   "metadata": {
    "id": "Y0CkcjzORAx1"
   },
   "source": [
    "### Basic Data Cleaning"
   ]
  },
  {
   "cell_type": "code",
   "execution_count": 7,
   "metadata": {
    "colab": {
     "base_uri": "https://localhost:8080/",
     "height": 932
    },
    "id": "YDetIFwxE5QC",
    "outputId": "b1555d05-0c7f-4937-d6df-aacd37c0385d"
   },
   "outputs": [
    {
     "data": {
      "text/html": [
       "<div>\n",
       "<style scoped>\n",
       "    .dataframe tbody tr th:only-of-type {\n",
       "        vertical-align: middle;\n",
       "    }\n",
       "\n",
       "    .dataframe tbody tr th {\n",
       "        vertical-align: top;\n",
       "    }\n",
       "\n",
       "    .dataframe thead th {\n",
       "        text-align: right;\n",
       "    }\n",
       "</style>\n",
       "<table border=\"1\" class=\"dataframe\">\n",
       "  <thead>\n",
       "    <tr style=\"text-align: right;\">\n",
       "      <th></th>\n",
       "      <th>product_id</th>\n",
       "      <th>product_name</th>\n",
       "      <th>brand_id</th>\n",
       "      <th>brand_name</th>\n",
       "      <th>loves_count</th>\n",
       "      <th>rating</th>\n",
       "      <th>reviews</th>\n",
       "      <th>size</th>\n",
       "      <th>variation_type</th>\n",
       "      <th>variation_value</th>\n",
       "      <th>...</th>\n",
       "      <th>online_only</th>\n",
       "      <th>out_of_stock</th>\n",
       "      <th>sephora_exclusive</th>\n",
       "      <th>highlights</th>\n",
       "      <th>primary_category</th>\n",
       "      <th>secondary_category</th>\n",
       "      <th>tertiary_category</th>\n",
       "      <th>child_count</th>\n",
       "      <th>child_max_price</th>\n",
       "      <th>child_min_price</th>\n",
       "    </tr>\n",
       "  </thead>\n",
       "  <tbody>\n",
       "    <tr>\n",
       "      <th>31</th>\n",
       "      <td>P443401</td>\n",
       "      <td>Blu Mediterraneo Mini Eau de Toilette Set</td>\n",
       "      <td>5847</td>\n",
       "      <td>Acqua di Parma</td>\n",
       "      <td>7290</td>\n",
       "      <td>3.3333</td>\n",
       "      <td>12.0</td>\n",
       "      <td>5 x 0.16oz/5mL</td>\n",
       "      <td>Size</td>\n",
       "      <td>5 x 0.16oz/5mL</td>\n",
       "      <td>...</td>\n",
       "      <td>1</td>\n",
       "      <td>0</td>\n",
       "      <td>0</td>\n",
       "      <td>['Unisex/ Genderless Scent', 'Fresh Scent']</td>\n",
       "      <td>Mini Size</td>\n",
       "      <td>Fragrance</td>\n",
       "      <td>NaN</td>\n",
       "      <td>0</td>\n",
       "      <td>NaN</td>\n",
       "      <td>NaN</td>\n",
       "    </tr>\n",
       "    <tr>\n",
       "      <th>69</th>\n",
       "      <td>P398823</td>\n",
       "      <td>Amber Musk Eau de Parfum Travel Spray</td>\n",
       "      <td>7054</td>\n",
       "      <td>AERIN</td>\n",
       "      <td>11147</td>\n",
       "      <td>4.1875</td>\n",
       "      <td>48.0</td>\n",
       "      <td>0.27 oz/ 8 mL</td>\n",
       "      <td>Size + Concentration + Formulation</td>\n",
       "      <td>0.27 oz/ 8 mL Eau de Parfum Spray</td>\n",
       "      <td>...</td>\n",
       "      <td>1</td>\n",
       "      <td>0</td>\n",
       "      <td>0</td>\n",
       "      <td>['Floral Scent', 'Layerable Scent', 'Warm &amp;Spi...</td>\n",
       "      <td>Mini Size</td>\n",
       "      <td>Fragrance</td>\n",
       "      <td>NaN</td>\n",
       "      <td>0</td>\n",
       "      <td>NaN</td>\n",
       "      <td>NaN</td>\n",
       "    </tr>\n",
       "    <tr>\n",
       "      <th>142</th>\n",
       "      <td>P483644</td>\n",
       "      <td>Mini Wild Huckleberry 8-Acid Polishing Peel Mask</td>\n",
       "      <td>6312</td>\n",
       "      <td>alpyn beauty</td>\n",
       "      <td>3822</td>\n",
       "      <td>4.8500</td>\n",
       "      <td>20.0</td>\n",
       "      <td>0.5 oz / 15 mL</td>\n",
       "      <td>Size</td>\n",
       "      <td>0.5 oz / 15 mL</td>\n",
       "      <td>...</td>\n",
       "      <td>0</td>\n",
       "      <td>0</td>\n",
       "      <td>1</td>\n",
       "      <td>['Good for: Dullness/Uneven Texture', 'Clean +...</td>\n",
       "      <td>Mini Size</td>\n",
       "      <td>Skincare</td>\n",
       "      <td>NaN</td>\n",
       "      <td>0</td>\n",
       "      <td>NaN</td>\n",
       "      <td>NaN</td>\n",
       "    </tr>\n",
       "    <tr>\n",
       "      <th>201</th>\n",
       "      <td>P426173</td>\n",
       "      <td>Mini Soulfood Nourishing Mask</td>\n",
       "      <td>6004</td>\n",
       "      <td>amika</td>\n",
       "      <td>47059</td>\n",
       "      <td>4.0766</td>\n",
       "      <td>235.0</td>\n",
       "      <td>3.3 oz/ 100 mL</td>\n",
       "      <td>Size</td>\n",
       "      <td>3.3 oz/ 100 mL</td>\n",
       "      <td>...</td>\n",
       "      <td>0</td>\n",
       "      <td>0</td>\n",
       "      <td>0</td>\n",
       "      <td>['Good for: Damage', 'Vegan', 'Community Favor...</td>\n",
       "      <td>Mini Size</td>\n",
       "      <td>Hair</td>\n",
       "      <td>NaN</td>\n",
       "      <td>0</td>\n",
       "      <td>NaN</td>\n",
       "      <td>NaN</td>\n",
       "    </tr>\n",
       "    <tr>\n",
       "      <th>217</th>\n",
       "      <td>P426180</td>\n",
       "      <td>Mini Un.Done Volume and Matte Texture Spray</td>\n",
       "      <td>6004</td>\n",
       "      <td>amika</td>\n",
       "      <td>17210</td>\n",
       "      <td>3.9412</td>\n",
       "      <td>17.0</td>\n",
       "      <td>1 oz/ 30 mL</td>\n",
       "      <td>Size</td>\n",
       "      <td>1 oz/ 30 mL</td>\n",
       "      <td>...</td>\n",
       "      <td>0</td>\n",
       "      <td>1</td>\n",
       "      <td>0</td>\n",
       "      <td>['Vegan', 'Light Hold', 'Good for: Volume', 'C...</td>\n",
       "      <td>Mini Size</td>\n",
       "      <td>Hair</td>\n",
       "      <td>NaN</td>\n",
       "      <td>0</td>\n",
       "      <td>NaN</td>\n",
       "      <td>NaN</td>\n",
       "    </tr>\n",
       "    <tr>\n",
       "      <th>...</th>\n",
       "      <td>...</td>\n",
       "      <td>...</td>\n",
       "      <td>...</td>\n",
       "      <td>...</td>\n",
       "      <td>...</td>\n",
       "      <td>...</td>\n",
       "      <td>...</td>\n",
       "      <td>...</td>\n",
       "      <td>...</td>\n",
       "      <td>...</td>\n",
       "      <td>...</td>\n",
       "      <td>...</td>\n",
       "      <td>...</td>\n",
       "      <td>...</td>\n",
       "      <td>...</td>\n",
       "      <td>...</td>\n",
       "      <td>...</td>\n",
       "      <td>...</td>\n",
       "      <td>...</td>\n",
       "      <td>...</td>\n",
       "      <td>...</td>\n",
       "    </tr>\n",
       "    <tr>\n",
       "      <th>8049</th>\n",
       "      <td>P504337</td>\n",
       "      <td>Donna Born In Roma Intense Eau de Parfum Trave...</td>\n",
       "      <td>1169</td>\n",
       "      <td>Valentino</td>\n",
       "      <td>8054</td>\n",
       "      <td>3.8571</td>\n",
       "      <td>7.0</td>\n",
       "      <td>0.34 oz / 10 mL</td>\n",
       "      <td>Size + Concentration + Formulation</td>\n",
       "      <td>0.34 oz / 10 mL eau de parfum spray</td>\n",
       "      <td>...</td>\n",
       "      <td>0</td>\n",
       "      <td>0</td>\n",
       "      <td>0</td>\n",
       "      <td>['Layerable Scent', 'Floral Scent']</td>\n",
       "      <td>Mini Size</td>\n",
       "      <td>Fragrance</td>\n",
       "      <td>NaN</td>\n",
       "      <td>0</td>\n",
       "      <td>NaN</td>\n",
       "      <td>NaN</td>\n",
       "    </tr>\n",
       "    <tr>\n",
       "      <th>8051</th>\n",
       "      <td>P479491</td>\n",
       "      <td>Mini Rosso Valentino Lipstick</td>\n",
       "      <td>1169</td>\n",
       "      <td>Valentino</td>\n",
       "      <td>6894</td>\n",
       "      <td>3.5000</td>\n",
       "      <td>8.0</td>\n",
       "      <td>2 g</td>\n",
       "      <td>Color</td>\n",
       "      <td>213R Sensuous Red</td>\n",
       "      <td>...</td>\n",
       "      <td>0</td>\n",
       "      <td>0</td>\n",
       "      <td>0</td>\n",
       "      <td>['Satin Finish', 'Hydrating', 'Matte Finish']</td>\n",
       "      <td>Mini Size</td>\n",
       "      <td>Makeup</td>\n",
       "      <td>NaN</td>\n",
       "      <td>8</td>\n",
       "      <td>25.0</td>\n",
       "      <td>25.0</td>\n",
       "    </tr>\n",
       "    <tr>\n",
       "      <th>8304</th>\n",
       "      <td>P474131</td>\n",
       "      <td>Mini Forbidden Fig Decorative Tin Candle</td>\n",
       "      <td>6245</td>\n",
       "      <td>VOLUSPA</td>\n",
       "      <td>3325</td>\n",
       "      <td>4.6970</td>\n",
       "      <td>33.0</td>\n",
       "      <td>4 oz/ 113 g</td>\n",
       "      <td>Size + Concentration + Formulation</td>\n",
       "      <td>4 oz/ 113 g</td>\n",
       "      <td>...</td>\n",
       "      <td>1</td>\n",
       "      <td>0</td>\n",
       "      <td>0</td>\n",
       "      <td>['Vegan', 'Floral Scent', 'Without Phthalates'...</td>\n",
       "      <td>Mini Size</td>\n",
       "      <td>Fragrance</td>\n",
       "      <td>NaN</td>\n",
       "      <td>0</td>\n",
       "      <td>NaN</td>\n",
       "      <td>NaN</td>\n",
       "    </tr>\n",
       "    <tr>\n",
       "      <th>8327</th>\n",
       "      <td>P477455</td>\n",
       "      <td>Mini Decorative Tin Trio</td>\n",
       "      <td>6245</td>\n",
       "      <td>VOLUSPA</td>\n",
       "      <td>1048</td>\n",
       "      <td>2.5000</td>\n",
       "      <td>2.0</td>\n",
       "      <td>NaN</td>\n",
       "      <td>NaN</td>\n",
       "      <td>NaN</td>\n",
       "      <td>...</td>\n",
       "      <td>0</td>\n",
       "      <td>1</td>\n",
       "      <td>1</td>\n",
       "      <td>['Vegan', 'Without Phthalates', 'Without Parab...</td>\n",
       "      <td>Mini Size</td>\n",
       "      <td>Value &amp; Gift Sets</td>\n",
       "      <td>NaN</td>\n",
       "      <td>0</td>\n",
       "      <td>NaN</td>\n",
       "      <td>NaN</td>\n",
       "    </tr>\n",
       "    <tr>\n",
       "      <th>8359</th>\n",
       "      <td>P500321</td>\n",
       "      <td>Mini Petite Lit Up Cream Highlighter Stick</td>\n",
       "      <td>6344</td>\n",
       "      <td>Westman Atelier</td>\n",
       "      <td>28101</td>\n",
       "      <td>4.0500</td>\n",
       "      <td>40.0</td>\n",
       "      <td>0.09 oz / 2.5 g</td>\n",
       "      <td>Color</td>\n",
       "      <td>Brûlée</td>\n",
       "      <td>...</td>\n",
       "      <td>0</td>\n",
       "      <td>0</td>\n",
       "      <td>1</td>\n",
       "      <td>['Radiant Finish', 'High Shine Finish', 'Plump...</td>\n",
       "      <td>Mini Size</td>\n",
       "      <td>Makeup</td>\n",
       "      <td>NaN</td>\n",
       "      <td>2</td>\n",
       "      <td>25.0</td>\n",
       "      <td>25.0</td>\n",
       "    </tr>\n",
       "  </tbody>\n",
       "</table>\n",
       "<p>288 rows × 27 columns</p>\n",
       "</div>"
      ],
      "text/plain": [
       "     product_id                                       product_name  brand_id  \\\n",
       "31      P443401          Blu Mediterraneo Mini Eau de Toilette Set      5847   \n",
       "69      P398823              Amber Musk Eau de Parfum Travel Spray      7054   \n",
       "142     P483644   Mini Wild Huckleberry 8-Acid Polishing Peel Mask      6312   \n",
       "201     P426173                      Mini Soulfood Nourishing Mask      6004   \n",
       "217     P426180        Mini Un.Done Volume and Matte Texture Spray      6004   \n",
       "...         ...                                                ...       ...   \n",
       "8049    P504337  Donna Born In Roma Intense Eau de Parfum Trave...      1169   \n",
       "8051    P479491                      Mini Rosso Valentino Lipstick      1169   \n",
       "8304    P474131           Mini Forbidden Fig Decorative Tin Candle      6245   \n",
       "8327    P477455                           Mini Decorative Tin Trio      6245   \n",
       "8359    P500321         Mini Petite Lit Up Cream Highlighter Stick      6344   \n",
       "\n",
       "           brand_name  loves_count  rating  reviews             size  \\\n",
       "31     Acqua di Parma         7290  3.3333     12.0   5 x 0.16oz/5mL   \n",
       "69              AERIN        11147  4.1875     48.0    0.27 oz/ 8 mL   \n",
       "142      alpyn beauty         3822  4.8500     20.0   0.5 oz / 15 mL   \n",
       "201             amika        47059  4.0766    235.0   3.3 oz/ 100 mL   \n",
       "217             amika        17210  3.9412     17.0      1 oz/ 30 mL   \n",
       "...               ...          ...     ...      ...              ...   \n",
       "8049        Valentino         8054  3.8571      7.0  0.34 oz / 10 mL   \n",
       "8051        Valentino         6894  3.5000      8.0              2 g   \n",
       "8304          VOLUSPA         3325  4.6970     33.0      4 oz/ 113 g   \n",
       "8327          VOLUSPA         1048  2.5000      2.0              NaN   \n",
       "8359  Westman Atelier        28101  4.0500     40.0  0.09 oz / 2.5 g   \n",
       "\n",
       "                          variation_type                      variation_value  \\\n",
       "31                                  Size                       5 x 0.16oz/5mL   \n",
       "69    Size + Concentration + Formulation    0.27 oz/ 8 mL Eau de Parfum Spray   \n",
       "142                                 Size                       0.5 oz / 15 mL   \n",
       "201                                 Size                       3.3 oz/ 100 mL   \n",
       "217                                 Size                          1 oz/ 30 mL   \n",
       "...                                  ...                                  ...   \n",
       "8049  Size + Concentration + Formulation  0.34 oz / 10 mL eau de parfum spray   \n",
       "8051                               Color                    213R Sensuous Red   \n",
       "8304  Size + Concentration + Formulation                          4 oz/ 113 g   \n",
       "8327                                 NaN                                  NaN   \n",
       "8359                               Color                               Brûlée   \n",
       "\n",
       "      ... online_only out_of_stock  sephora_exclusive  \\\n",
       "31    ...           1            0                  0   \n",
       "69    ...           1            0                  0   \n",
       "142   ...           0            0                  1   \n",
       "201   ...           0            0                  0   \n",
       "217   ...           0            1                  0   \n",
       "...   ...         ...          ...                ...   \n",
       "8049  ...           0            0                  0   \n",
       "8051  ...           0            0                  0   \n",
       "8304  ...           1            0                  0   \n",
       "8327  ...           0            1                  1   \n",
       "8359  ...           0            0                  1   \n",
       "\n",
       "                                             highlights  primary_category  \\\n",
       "31          ['Unisex/ Genderless Scent', 'Fresh Scent']         Mini Size   \n",
       "69    ['Floral Scent', 'Layerable Scent', 'Warm &Spi...         Mini Size   \n",
       "142   ['Good for: Dullness/Uneven Texture', 'Clean +...         Mini Size   \n",
       "201   ['Good for: Damage', 'Vegan', 'Community Favor...         Mini Size   \n",
       "217   ['Vegan', 'Light Hold', 'Good for: Volume', 'C...         Mini Size   \n",
       "...                                                 ...               ...   \n",
       "8049                ['Layerable Scent', 'Floral Scent']         Mini Size   \n",
       "8051      ['Satin Finish', 'Hydrating', 'Matte Finish']         Mini Size   \n",
       "8304  ['Vegan', 'Floral Scent', 'Without Phthalates'...         Mini Size   \n",
       "8327  ['Vegan', 'Without Phthalates', 'Without Parab...         Mini Size   \n",
       "8359  ['Radiant Finish', 'High Shine Finish', 'Plump...         Mini Size   \n",
       "\n",
       "      secondary_category  tertiary_category  child_count  child_max_price  \\\n",
       "31             Fragrance                NaN            0              NaN   \n",
       "69             Fragrance                NaN            0              NaN   \n",
       "142             Skincare                NaN            0              NaN   \n",
       "201                 Hair                NaN            0              NaN   \n",
       "217                 Hair                NaN            0              NaN   \n",
       "...                  ...                ...          ...              ...   \n",
       "8049           Fragrance                NaN            0              NaN   \n",
       "8051              Makeup                NaN            8             25.0   \n",
       "8304           Fragrance                NaN            0              NaN   \n",
       "8327   Value & Gift Sets                NaN            0              NaN   \n",
       "8359              Makeup                NaN            2             25.0   \n",
       "\n",
       "      child_min_price  \n",
       "31                NaN  \n",
       "69                NaN  \n",
       "142               NaN  \n",
       "201               NaN  \n",
       "217               NaN  \n",
       "...               ...  \n",
       "8049              NaN  \n",
       "8051             25.0  \n",
       "8304              NaN  \n",
       "8327              NaN  \n",
       "8359             25.0  \n",
       "\n",
       "[288 rows x 27 columns]"
      ]
     },
     "execution_count": 7,
     "metadata": {},
     "output_type": "execute_result"
    }
   ],
   "source": [
    "# Mini Size is obviously not a category, there might be something wrong here\n",
    "# So we take a look\n",
    "products[products['primary_category'] == \"Mini Size\"]"
   ]
  },
  {
   "cell_type": "code",
   "execution_count": 8,
   "metadata": {
    "id": "hKzNlBeQGmjB"
   },
   "outputs": [],
   "source": [
    "# Based on my observation of other primary and secondary category,\n",
    "# I tend to believe that the primary and secondary category in Mini Size is swapped\n",
    "# So I want to swap back\n",
    "minisize_products = products['primary_category'] == \"Mini Size\"\n",
    "products.loc[minisize_products, 'primary_category'] = products.loc[minisize_products, 'secondary_category']\n",
    "products.loc[minisize_products, 'secondary_category'] = products.loc[minisize_products, 'primary_category']"
   ]
  },
  {
   "cell_type": "code",
   "execution_count": 9,
   "metadata": {
    "id": "xEpOBm_IG9Kq"
   },
   "outputs": [],
   "source": [
    "# For Men, it's the same case as minisize that two columns are swapped\n",
    "# So we swap back\n",
    "men_products = products['primary_category'] == \"Men\"\n",
    "products.loc[men_products, 'primary_category'] = products.loc[men_products, 'secondary_category']\n",
    "products.loc[men_products, 'secondary_category'] = products.loc[men_products, 'primary_category']"
   ]
  },
  {
   "cell_type": "markdown",
   "metadata": {
    "id": "64t4JbPTQwzI"
   },
   "source": [
    "### Look at Skincare products and see what subcategories are there"
   ]
  },
  {
   "cell_type": "code",
   "execution_count": 10,
   "metadata": {
    "colab": {
     "base_uri": "https://localhost:8080/"
    },
    "id": "yllnNa50Hf_v",
    "outputId": "906872d5-7094-49c0-e622-0bbf6cb0c7ad"
   },
   "outputs": [
    {
     "data": {
      "text/plain": [
       "(2351,)"
      ]
     },
     "execution_count": 10,
     "metadata": {},
     "output_type": "execute_result"
    }
   ],
   "source": [
    "# I want to see how many unique products are in the reviews\n",
    "total_reviews['product_id'].unique().shape"
   ]
  },
  {
   "cell_type": "code",
   "execution_count": 11,
   "metadata": {
    "id": "H6mK-6JpHYwO"
   },
   "outputs": [],
   "source": [
    "# We filter only the products that appear in the reviews\n",
    "filtered_products = products[products['product_id'].isin(total_reviews['product_id'].unique())]"
   ]
  },
  {
   "cell_type": "code",
   "execution_count": 12,
   "metadata": {
    "colab": {
     "base_uri": "https://localhost:8080/"
    },
    "id": "T_gLwo1CIPFB",
    "outputId": "dd01b329-1acc-42a1-fccc-985cccabce67"
   },
   "outputs": [
    {
     "data": {
      "text/plain": [
       "array(['Skincare'], dtype=object)"
      ]
     },
     "execution_count": 12,
     "metadata": {},
     "output_type": "execute_result"
    }
   ],
   "source": [
    "# Only skincare products have reviews\n",
    "filtered_products['primary_category'].unique()"
   ]
  },
  {
   "cell_type": "code",
   "execution_count": 13,
   "metadata": {
    "colab": {
     "base_uri": "https://localhost:8080/"
    },
    "id": "etm9h3mFIaku",
    "outputId": "fcb06f90-8d48-4284-bb1b-6b67368fb220"
   },
   "outputs": [
    {
     "data": {
      "text/plain": [
       "array(['Moisturizers', 'Treatments', 'Eye Care', 'Lip Balms & Treatments',\n",
       "       'Sunscreen', 'Cleansers', 'Value & Gift Sets', 'Masks',\n",
       "       'Mini Size', 'Wellness', 'High Tech Tools', 'Self Tanners',\n",
       "       'Shop by Concern'], dtype=object)"
      ]
     },
     "execution_count": 13,
     "metadata": {},
     "output_type": "execute_result"
    }
   ],
   "source": [
    "# Now we take a look at what subcategories are out there\n",
    "filtered_products['secondary_category'].unique()"
   ]
  },
  {
   "cell_type": "code",
   "execution_count": 36,
   "metadata": {
    "colab": {
     "base_uri": "https://localhost:8080/",
     "height": 715
    },
    "id": "ERlvA9qHhlPh",
    "outputId": "0f27dbac-c7b5-4bfb-cac5-1878cb511fe6"
   },
   "outputs": [
    {
     "data": {
      "image/png": "[encoded data removed]",
      "text/plain": [
       "<Figure size 720x432 with 1 Axes>"
      ]
     },
     "metadata": {
      "needs_background": "light"
     },
     "output_type": "display_data"
    }
   ],
   "source": [
    "# Visualize to see the counts of different items in the secondary category\n",
    "category_counts = filtered_products['secondary_category'].value_counts()\n",
    "plt.figure(figsize=(10, 6))\n",
    "plt.bar(category_counts.index, category_counts)\n",
    "plt.xlabel('Secondary Category')\n",
    "plt.ylabel('Count')\n",
    "plt.title('Counts of Products in Each Secondary Category')\n",
    "plt.xticks(rotation=90)  # Rotate x-axis labels for better readability\n",
    "plt.show()"
   ]
  },
  {
   "cell_type": "code",
   "execution_count": 14,
   "metadata": {
    "colab": {
     "base_uri": "https://localhost:8080/"
    },
    "id": "TnOA3uAlIdC8",
    "outputId": "edd1ed8c-79a9-407d-c167-7fd709a0ba81"
   },
   "outputs": [
    {
     "data": {
      "text/plain": [
       "array(['Moisturizers', 'Face Serums', 'Eye Creams & Treatments', nan,\n",
       "       'Face Sunscreen', 'Face Wash & Cleansers', 'Face Oils', 'Toners',\n",
       "       'Face Masks', 'Facial Peels', 'Decollete & Neck Creams',\n",
       "       'Exfoliators', 'Eye Masks', 'Facial Rollers', 'Anti-Aging',\n",
       "       'Face Wipes', 'Blemish & Acne Treatments', 'Night Creams',\n",
       "       'Mists & Essences', 'Beauty Supplements', 'Body Sunscreen',\n",
       "       'Sheet Masks', 'For Body', 'Makeup Removers', 'For Face',\n",
       "       'Facial Cleansing Brushes', 'Blotting Papers', 'BB & CC Creams',\n",
       "       'Holistic Wellness', 'Teeth Whitening', 'Hair Removal'],\n",
       "      dtype=object)"
      ]
     },
     "execution_count": 14,
     "metadata": {},
     "output_type": "execute_result"
    }
   ],
   "source": [
    "filtered_products['tertiary_category'].unique()"
   ]
  },
  {
   "cell_type": "code",
   "execution_count": 15,
   "metadata": {
    "colab": {
     "base_uri": "https://localhost:8080/",
     "height": 741
    },
    "id": "fAsR9PAwiB_4",
    "outputId": "6b5af135-2640-442d-aa4c-c245491cf219"
   },
   "outputs": [
    {
     "data": {
      "image/png": "[encoded data removed]",
      "text/plain": [
       "<Figure size 720x432 with 1 Axes>"
      ]
     },
     "metadata": {
      "needs_background": "light"
     },
     "output_type": "display_data"
    }
   ],
   "source": [
    "tcategory_counts = filtered_products['tertiary_category'].value_counts()\n",
    "plt.figure(figsize=(10, 6))\n",
    "plt.bar(tcategory_counts.index, tcategory_counts)\n",
    "plt.xlabel('Tertiary Category')\n",
    "plt.ylabel('Count')\n",
    "plt.title('Counts of Products in Each Tertiary Category')\n",
    "plt.xticks(rotation=90)  # Rotate x-axis labels for better readability\n",
    "plt.show()"
   ]
  },
  {
   "cell_type": "markdown",
   "metadata": {
    "id": "oycwIndeQhkp"
   },
   "source": [
    "### Find the number of reviews for each skincare product\n",
    "We need to know the number of reviews for each product so we know which products have enough data to train our model."
   ]
  },
  {
   "cell_type": "code",
   "execution_count": 16,
   "metadata": {
    "id": "VmCSrLHIIgdL"
   },
   "outputs": [
    {
     "data": {
      "text/plain": [
       "P420652    16138\n",
       "P7880       8736\n",
       "P218700     7763\n",
       "P248407     7547\n",
       "P269122     7414\n",
       "Name: product_id, dtype: int64"
      ]
     },
     "execution_count": 16,
     "metadata": {},
     "output_type": "execute_result"
    }
   ],
   "source": [
    "# Get the number of reviews for each product\n",
    "review_products_counts = total_reviews['product_id'].value_counts()\n",
    "review_products_counts.head()"
   ]
  },
  {
   "cell_type": "code",
   "execution_count": 17,
   "metadata": {
    "id": "Iw9akteNMj9z"
   },
   "outputs": [
    {
     "data": {
      "text/html": [
       "<div>\n",
       "<style scoped>\n",
       "    .dataframe tbody tr th:only-of-type {\n",
       "        vertical-align: middle;\n",
       "    }\n",
       "\n",
       "    .dataframe tbody tr th {\n",
       "        vertical-align: top;\n",
       "    }\n",
       "\n",
       "    .dataframe thead th {\n",
       "        text-align: right;\n",
       "    }\n",
       "</style>\n",
       "<table border=\"1\" class=\"dataframe\">\n",
       "  <thead>\n",
       "    <tr style=\"text-align: right;\">\n",
       "      <th></th>\n",
       "      <th>product_id</th>\n",
       "      <th>counts</th>\n",
       "    </tr>\n",
       "  </thead>\n",
       "  <tbody>\n",
       "    <tr>\n",
       "      <th>0</th>\n",
       "      <td>P420652</td>\n",
       "      <td>16138</td>\n",
       "    </tr>\n",
       "    <tr>\n",
       "      <th>1</th>\n",
       "      <td>P7880</td>\n",
       "      <td>8736</td>\n",
       "    </tr>\n",
       "    <tr>\n",
       "      <th>2</th>\n",
       "      <td>P218700</td>\n",
       "      <td>7763</td>\n",
       "    </tr>\n",
       "    <tr>\n",
       "      <th>3</th>\n",
       "      <td>P248407</td>\n",
       "      <td>7547</td>\n",
       "    </tr>\n",
       "    <tr>\n",
       "      <th>4</th>\n",
       "      <td>P269122</td>\n",
       "      <td>7414</td>\n",
       "    </tr>\n",
       "  </tbody>\n",
       "</table>\n",
       "</div>"
      ],
      "text/plain": [
       "  product_id  counts\n",
       "0    P420652   16138\n",
       "1      P7880    8736\n",
       "2    P218700    7763\n",
       "3    P248407    7547\n",
       "4    P269122    7414"
      ]
     },
     "execution_count": 17,
     "metadata": {},
     "output_type": "execute_result"
    }
   ],
   "source": [
    "# Create a data frame of products and review counts\n",
    "review_products_counts = review_products_counts.reset_index()\n",
    "new_column_names = {'index': 'product_id', 'product_id': 'counts'}\n",
    "review_products_counts = review_products_counts.rename(columns=new_column_names)\n",
    "review_products_counts.head()"
   ]
  },
  {
   "cell_type": "code",
   "execution_count": 18,
   "metadata": {
    "id": "2fZhMJtxHF35"
   },
   "outputs": [
    {
     "data": {
      "text/html": [
       "<div>\n",
       "<style scoped>\n",
       "    .dataframe tbody tr th:only-of-type {\n",
       "        vertical-align: middle;\n",
       "    }\n",
       "\n",
       "    .dataframe tbody tr th {\n",
       "        vertical-align: top;\n",
       "    }\n",
       "\n",
       "    .dataframe thead th {\n",
       "        text-align: right;\n",
       "    }\n",
       "</style>\n",
       "<table border=\"1\" class=\"dataframe\">\n",
       "  <thead>\n",
       "    <tr style=\"text-align: right;\">\n",
       "      <th></th>\n",
       "      <th>product_id</th>\n",
       "      <th>counts</th>\n",
       "      <th>product_name</th>\n",
       "      <th>brand_id</th>\n",
       "      <th>brand_name</th>\n",
       "      <th>loves_count</th>\n",
       "      <th>rating</th>\n",
       "      <th>reviews</th>\n",
       "      <th>size</th>\n",
       "      <th>variation_type</th>\n",
       "      <th>...</th>\n",
       "      <th>online_only</th>\n",
       "      <th>out_of_stock</th>\n",
       "      <th>sephora_exclusive</th>\n",
       "      <th>highlights</th>\n",
       "      <th>primary_category</th>\n",
       "      <th>secondary_category</th>\n",
       "      <th>tertiary_category</th>\n",
       "      <th>child_count</th>\n",
       "      <th>child_max_price</th>\n",
       "      <th>child_min_price</th>\n",
       "    </tr>\n",
       "  </thead>\n",
       "  <tbody>\n",
       "    <tr>\n",
       "      <th>0</th>\n",
       "      <td>P420652</td>\n",
       "      <td>16138</td>\n",
       "      <td>Lip Sleeping Mask Intense Hydration with Vitam...</td>\n",
       "      <td>6125</td>\n",
       "      <td>LANEIGE</td>\n",
       "      <td>1081315</td>\n",
       "      <td>4.3508</td>\n",
       "      <td>16118.0</td>\n",
       "      <td>0.7 oz/ 20 g</td>\n",
       "      <td>Color</td>\n",
       "      <td>...</td>\n",
       "      <td>0</td>\n",
       "      <td>0</td>\n",
       "      <td>1</td>\n",
       "      <td>['allure 2019 Best of Beauty Award Winner', 'C...</td>\n",
       "      <td>Skincare</td>\n",
       "      <td>Lip Balms &amp; Treatments</td>\n",
       "      <td>NaN</td>\n",
       "      <td>3</td>\n",
       "      <td>24.0</td>\n",
       "      <td>24.0</td>\n",
       "    </tr>\n",
       "    <tr>\n",
       "      <th>1</th>\n",
       "      <td>P7880</td>\n",
       "      <td>8736</td>\n",
       "      <td>Soy Hydrating Gentle Face Cleanser</td>\n",
       "      <td>4348</td>\n",
       "      <td>fresh</td>\n",
       "      <td>282865</td>\n",
       "      <td>4.3628</td>\n",
       "      <td>8733.0</td>\n",
       "      <td>5 oz/ 150 mL</td>\n",
       "      <td>Size</td>\n",
       "      <td>...</td>\n",
       "      <td>0</td>\n",
       "      <td>0</td>\n",
       "      <td>0</td>\n",
       "      <td>['Clean at Sephora', 'Best for Dry, Combo, Nor...</td>\n",
       "      <td>Skincare</td>\n",
       "      <td>Cleansers</td>\n",
       "      <td>Face Wash &amp; Cleansers</td>\n",
       "      <td>2</td>\n",
       "      <td>71.0</td>\n",
       "      <td>15.0</td>\n",
       "    </tr>\n",
       "    <tr>\n",
       "      <th>2</th>\n",
       "      <td>P218700</td>\n",
       "      <td>7763</td>\n",
       "      <td>100 percent Pure Argan Oil</td>\n",
       "      <td>5922</td>\n",
       "      <td>Josie Maran</td>\n",
       "      <td>134089</td>\n",
       "      <td>4.4998</td>\n",
       "      <td>7763.0</td>\n",
       "      <td>1.7 oz/ 50 mL</td>\n",
       "      <td>Size</td>\n",
       "      <td>...</td>\n",
       "      <td>0</td>\n",
       "      <td>0</td>\n",
       "      <td>0</td>\n",
       "      <td>['Cruelty-Free', 'Clean at Sephora']</td>\n",
       "      <td>Skincare</td>\n",
       "      <td>Moisturizers</td>\n",
       "      <td>Face Oils</td>\n",
       "      <td>2</td>\n",
       "      <td>96.0</td>\n",
       "      <td>18.0</td>\n",
       "    </tr>\n",
       "    <tr>\n",
       "      <th>3</th>\n",
       "      <td>P248407</td>\n",
       "      <td>7547</td>\n",
       "      <td>Ultra Repair Cream Intense Hydration</td>\n",
       "      <td>5972</td>\n",
       "      <td>First Aid Beauty</td>\n",
       "      <td>300432</td>\n",
       "      <td>4.5200</td>\n",
       "      <td>7539.0</td>\n",
       "      <td>6 oz/ 170 g</td>\n",
       "      <td>Size</td>\n",
       "      <td>...</td>\n",
       "      <td>0</td>\n",
       "      <td>0</td>\n",
       "      <td>0</td>\n",
       "      <td>['Best for Dry Skin', 'Community Favorite', 'C...</td>\n",
       "      <td>Skincare</td>\n",
       "      <td>Moisturizers</td>\n",
       "      <td>Moisturizers</td>\n",
       "      <td>3</td>\n",
       "      <td>48.0</td>\n",
       "      <td>18.0</td>\n",
       "    </tr>\n",
       "    <tr>\n",
       "      <th>4</th>\n",
       "      <td>P269122</td>\n",
       "      <td>7414</td>\n",
       "      <td>Alpha Beta Extra Strength Daily Peel Pads</td>\n",
       "      <td>5668</td>\n",
       "      <td>Dr. Dennis Gross Skincare</td>\n",
       "      <td>234295</td>\n",
       "      <td>4.5455</td>\n",
       "      <td>7412.0</td>\n",
       "      <td>30 Treatments + 5 Bonus</td>\n",
       "      <td>Size</td>\n",
       "      <td>...</td>\n",
       "      <td>0</td>\n",
       "      <td>0</td>\n",
       "      <td>1</td>\n",
       "      <td>['Good for: Dullness/Uneven Texture', 'Clean a...</td>\n",
       "      <td>Skincare</td>\n",
       "      <td>Treatments</td>\n",
       "      <td>Facial Peels</td>\n",
       "      <td>2</td>\n",
       "      <td>153.0</td>\n",
       "      <td>20.0</td>\n",
       "    </tr>\n",
       "  </tbody>\n",
       "</table>\n",
       "<p>5 rows × 28 columns</p>\n",
       "</div>"
      ],
      "text/plain": [
       "  product_id  counts                                       product_name  \\\n",
       "0    P420652   16138  Lip Sleeping Mask Intense Hydration with Vitam...   \n",
       "1      P7880    8736                 Soy Hydrating Gentle Face Cleanser   \n",
       "2    P218700    7763                         100 percent Pure Argan Oil   \n",
       "3    P248407    7547               Ultra Repair Cream Intense Hydration   \n",
       "4    P269122    7414          Alpha Beta Extra Strength Daily Peel Pads   \n",
       "\n",
       "   brand_id                 brand_name  loves_count  rating  reviews  \\\n",
       "0      6125                    LANEIGE      1081315  4.3508  16118.0   \n",
       "1      4348                      fresh       282865  4.3628   8733.0   \n",
       "2      5922                Josie Maran       134089  4.4998   7763.0   \n",
       "3      5972           First Aid Beauty       300432  4.5200   7539.0   \n",
       "4      5668  Dr. Dennis Gross Skincare       234295  4.5455   7412.0   \n",
       "\n",
       "                      size variation_type  ... online_only out_of_stock  \\\n",
       "0             0.7 oz/ 20 g          Color  ...           0            0   \n",
       "1             5 oz/ 150 mL           Size  ...           0            0   \n",
       "2            1.7 oz/ 50 mL           Size  ...           0            0   \n",
       "3              6 oz/ 170 g           Size  ...           0            0   \n",
       "4  30 Treatments + 5 Bonus           Size  ...           0            0   \n",
       "\n",
       "  sephora_exclusive                                         highlights  \\\n",
       "0                 1  ['allure 2019 Best of Beauty Award Winner', 'C...   \n",
       "1                 0  ['Clean at Sephora', 'Best for Dry, Combo, Nor...   \n",
       "2                 0               ['Cruelty-Free', 'Clean at Sephora']   \n",
       "3                 0  ['Best for Dry Skin', 'Community Favorite', 'C...   \n",
       "4                 1  ['Good for: Dullness/Uneven Texture', 'Clean a...   \n",
       "\n",
       "   primary_category      secondary_category      tertiary_category  \\\n",
       "0          Skincare  Lip Balms & Treatments                    NaN   \n",
       "1          Skincare               Cleansers  Face Wash & Cleansers   \n",
       "2          Skincare            Moisturizers              Face Oils   \n",
       "3          Skincare            Moisturizers           Moisturizers   \n",
       "4          Skincare              Treatments           Facial Peels   \n",
       "\n",
       "   child_count  child_max_price  child_min_price  \n",
       "0            3             24.0             24.0  \n",
       "1            2             71.0             15.0  \n",
       "2            2             96.0             18.0  \n",
       "3            3             48.0             18.0  \n",
       "4            2            153.0             20.0  \n",
       "\n",
       "[5 rows x 28 columns]"
      ]
     },
     "execution_count": 18,
     "metadata": {},
     "output_type": "execute_result"
    }
   ],
   "source": [
    "# Merge with filtered products data frame\n",
    "merged_products = review_products_counts.merge(filtered_products, on='product_id', how='left')\n",
    "merged_products.head()"
   ]
  },
  {
   "cell_type": "code",
   "execution_count": 19,
   "metadata": {
    "id": "erTtt0D4PvQz"
   },
   "outputs": [
    {
     "data": {
      "text/html": [
       "<div>\n",
       "<style scoped>\n",
       "    .dataframe tbody tr th:only-of-type {\n",
       "        vertical-align: middle;\n",
       "    }\n",
       "\n",
       "    .dataframe tbody tr th {\n",
       "        vertical-align: top;\n",
       "    }\n",
       "\n",
       "    .dataframe thead th {\n",
       "        text-align: right;\n",
       "    }\n",
       "</style>\n",
       "<table border=\"1\" class=\"dataframe\">\n",
       "  <thead>\n",
       "    <tr style=\"text-align: right;\">\n",
       "      <th></th>\n",
       "      <th>product_id</th>\n",
       "      <th>counts</th>\n",
       "      <th>product_name</th>\n",
       "      <th>brand_id</th>\n",
       "      <th>brand_name</th>\n",
       "      <th>loves_count</th>\n",
       "      <th>rating</th>\n",
       "      <th>reviews</th>\n",
       "      <th>size</th>\n",
       "      <th>variation_type</th>\n",
       "      <th>...</th>\n",
       "      <th>online_only</th>\n",
       "      <th>out_of_stock</th>\n",
       "      <th>sephora_exclusive</th>\n",
       "      <th>highlights</th>\n",
       "      <th>primary_category</th>\n",
       "      <th>secondary_category</th>\n",
       "      <th>tertiary_category</th>\n",
       "      <th>child_count</th>\n",
       "      <th>child_max_price</th>\n",
       "      <th>child_min_price</th>\n",
       "    </tr>\n",
       "  </thead>\n",
       "  <tbody>\n",
       "    <tr>\n",
       "      <th>2</th>\n",
       "      <td>P218700</td>\n",
       "      <td>7763</td>\n",
       "      <td>100 percent Pure Argan Oil</td>\n",
       "      <td>5922</td>\n",
       "      <td>Josie Maran</td>\n",
       "      <td>134089</td>\n",
       "      <td>4.4998</td>\n",
       "      <td>7763.0</td>\n",
       "      <td>1.7 oz/ 50 mL</td>\n",
       "      <td>Size</td>\n",
       "      <td>...</td>\n",
       "      <td>0</td>\n",
       "      <td>0</td>\n",
       "      <td>0</td>\n",
       "      <td>['Cruelty-Free', 'Clean at Sephora']</td>\n",
       "      <td>Skincare</td>\n",
       "      <td>Moisturizers</td>\n",
       "      <td>Face Oils</td>\n",
       "      <td>2</td>\n",
       "      <td>96.0</td>\n",
       "      <td>18.0</td>\n",
       "    </tr>\n",
       "    <tr>\n",
       "      <th>3</th>\n",
       "      <td>P248407</td>\n",
       "      <td>7547</td>\n",
       "      <td>Ultra Repair Cream Intense Hydration</td>\n",
       "      <td>5972</td>\n",
       "      <td>First Aid Beauty</td>\n",
       "      <td>300432</td>\n",
       "      <td>4.5200</td>\n",
       "      <td>7539.0</td>\n",
       "      <td>6 oz/ 170 g</td>\n",
       "      <td>Size</td>\n",
       "      <td>...</td>\n",
       "      <td>0</td>\n",
       "      <td>0</td>\n",
       "      <td>0</td>\n",
       "      <td>['Best for Dry Skin', 'Community Favorite', 'C...</td>\n",
       "      <td>Skincare</td>\n",
       "      <td>Moisturizers</td>\n",
       "      <td>Moisturizers</td>\n",
       "      <td>3</td>\n",
       "      <td>48.0</td>\n",
       "      <td>18.0</td>\n",
       "    </tr>\n",
       "    <tr>\n",
       "      <th>5</th>\n",
       "      <td>P394639</td>\n",
       "      <td>7294</td>\n",
       "      <td>The True Cream Aqua Bomb</td>\n",
       "      <td>7075</td>\n",
       "      <td>belif</td>\n",
       "      <td>265050</td>\n",
       "      <td>4.4841</td>\n",
       "      <td>7292.0</td>\n",
       "      <td>1.68 oz/ 50 mL</td>\n",
       "      <td>Size</td>\n",
       "      <td>...</td>\n",
       "      <td>0</td>\n",
       "      <td>0</td>\n",
       "      <td>0</td>\n",
       "      <td>NaN</td>\n",
       "      <td>Skincare</td>\n",
       "      <td>Moisturizers</td>\n",
       "      <td>Moisturizers</td>\n",
       "      <td>2</td>\n",
       "      <td>65.0</td>\n",
       "      <td>22.0</td>\n",
       "    </tr>\n",
       "    <tr>\n",
       "      <th>8</th>\n",
       "      <td>P427421</td>\n",
       "      <td>6063</td>\n",
       "      <td>Protini Polypeptide Firming Refillable Moistur...</td>\n",
       "      <td>7083</td>\n",
       "      <td>Drunk Elephant</td>\n",
       "      <td>411372</td>\n",
       "      <td>3.9620</td>\n",
       "      <td>6048.0</td>\n",
       "      <td>1.69 oz/ 50 mL</td>\n",
       "      <td>Size</td>\n",
       "      <td>...</td>\n",
       "      <td>0</td>\n",
       "      <td>0</td>\n",
       "      <td>0</td>\n",
       "      <td>['Refill Available', 'Good for: Dullness/Uneve...</td>\n",
       "      <td>Skincare</td>\n",
       "      <td>Moisturizers</td>\n",
       "      <td>Moisturizers</td>\n",
       "      <td>3</td>\n",
       "      <td>98.0</td>\n",
       "      <td>22.0</td>\n",
       "    </tr>\n",
       "    <tr>\n",
       "      <th>13</th>\n",
       "      <td>P411540</td>\n",
       "      <td>5321</td>\n",
       "      <td>Cicapair Tiger Grass Color Correcting Treatmen...</td>\n",
       "      <td>6014</td>\n",
       "      <td>Dr. Jart+</td>\n",
       "      <td>210786</td>\n",
       "      <td>3.9904</td>\n",
       "      <td>5309.0</td>\n",
       "      <td>1.7 fl. oz/ 50 mL</td>\n",
       "      <td>Size</td>\n",
       "      <td>...</td>\n",
       "      <td>0</td>\n",
       "      <td>0</td>\n",
       "      <td>1</td>\n",
       "      <td>['Natural Finish', 'Good for: Redness', 'Mediu...</td>\n",
       "      <td>Skincare</td>\n",
       "      <td>Moisturizers</td>\n",
       "      <td>BB &amp; CC Creams</td>\n",
       "      <td>1</td>\n",
       "      <td>21.0</td>\n",
       "      <td>21.0</td>\n",
       "    </tr>\n",
       "  </tbody>\n",
       "</table>\n",
       "<p>5 rows × 28 columns</p>\n",
       "</div>"
      ],
      "text/plain": [
       "   product_id  counts                                       product_name  \\\n",
       "2     P218700    7763                         100 percent Pure Argan Oil   \n",
       "3     P248407    7547               Ultra Repair Cream Intense Hydration   \n",
       "5     P394639    7294                           The True Cream Aqua Bomb   \n",
       "8     P427421    6063  Protini Polypeptide Firming Refillable Moistur...   \n",
       "13    P411540    5321  Cicapair Tiger Grass Color Correcting Treatmen...   \n",
       "\n",
       "    brand_id        brand_name  loves_count  rating  reviews  \\\n",
       "2       5922       Josie Maran       134089  4.4998   7763.0   \n",
       "3       5972  First Aid Beauty       300432  4.5200   7539.0   \n",
       "5       7075             belif       265050  4.4841   7292.0   \n",
       "8       7083    Drunk Elephant       411372  3.9620   6048.0   \n",
       "13      6014         Dr. Jart+       210786  3.9904   5309.0   \n",
       "\n",
       "                 size variation_type  ... online_only out_of_stock  \\\n",
       "2       1.7 oz/ 50 mL           Size  ...           0            0   \n",
       "3         6 oz/ 170 g           Size  ...           0            0   \n",
       "5      1.68 oz/ 50 mL           Size  ...           0            0   \n",
       "8      1.69 oz/ 50 mL           Size  ...           0            0   \n",
       "13  1.7 fl. oz/ 50 mL           Size  ...           0            0   \n",
       "\n",
       "   sephora_exclusive                                         highlights  \\\n",
       "2                  0               ['Cruelty-Free', 'Clean at Sephora']   \n",
       "3                  0  ['Best for Dry Skin', 'Community Favorite', 'C...   \n",
       "5                  0                                                NaN   \n",
       "8                  0  ['Refill Available', 'Good for: Dullness/Uneve...   \n",
       "13                 1  ['Natural Finish', 'Good for: Redness', 'Mediu...   \n",
       "\n",
       "    primary_category  secondary_category  tertiary_category  child_count  \\\n",
       "2           Skincare        Moisturizers          Face Oils            2   \n",
       "3           Skincare        Moisturizers       Moisturizers            3   \n",
       "5           Skincare        Moisturizers       Moisturizers            2   \n",
       "8           Skincare        Moisturizers       Moisturizers            3   \n",
       "13          Skincare        Moisturizers     BB & CC Creams            1   \n",
       "\n",
       "    child_max_price  child_min_price  \n",
       "2              96.0             18.0  \n",
       "3              48.0             18.0  \n",
       "5              65.0             22.0  \n",
       "8              98.0             22.0  \n",
       "13             21.0             21.0  \n",
       "\n",
       "[5 rows x 28 columns]"
      ]
     },
     "execution_count": 19,
     "metadata": {},
     "output_type": "execute_result"
    }
   ],
   "source": [
    "# Focus on the moisturizers because that category has the largest number of products\n",
    "moisterizers_products = merged_products[merged_products['secondary_category'] == 'Moisturizers']\n",
    "moisterizers_products.head()"
   ]
  },
  {
   "cell_type": "code",
   "execution_count": 20,
   "metadata": {
    "id": "Z9FQAs9kOgC7"
   },
   "outputs": [],
   "source": [
    "# Identify the 30 most popular products\n",
    "sorted_products = merged_products.sort_values(by='counts', ascending=False)\n",
    "top_30_products = sorted_products.head(30)"
   ]
  },
  {
   "cell_type": "code",
   "execution_count": 21,
   "metadata": {
    "colab": {
     "base_uri": "https://localhost:8080/",
     "height": 1000
    },
    "id": "4lDefyZINr4y",
    "outputId": "8e7db630-0940-4ee1-9055-1ef7963ef8f9"
   },
   "outputs": [
    {
     "data": {
      "image/png": "[encoded data removed]",
      "text/plain": [
       "<Figure size 720x432 with 1 Axes>"
      ]
     },
     "metadata": {
      "needs_background": "light"
     },
     "output_type": "display_data"
    }
   ],
   "source": [
    "# Plot review counts by product for top 30 products\n",
    "plt.figure(figsize=(10, 6))\n",
    "plt.bar(top_30_products['product_name'], top_30_products['counts'])\n",
    "plt.xlabel('product')\n",
    "plt.ylabel('Counts of reviews')\n",
    "plt.title('Counts of product reviews for each products')\n",
    "plt.xticks(rotation=90)  # Rotate x-axis labels for better readability\n",
    "plt.show()"
   ]
  },
  {
   "cell_type": "code",
   "execution_count": 22,
   "metadata": {
    "id": "4lHM_jDdQCj1"
   },
   "outputs": [],
   "source": [
    "# Only look at the moisturizers\n",
    "sorted_moisturizers_products = moisterizers_products.sort_values(by='counts', ascending=False)\n",
    "top30_moisturizers_products = sorted_moisturizers_products.head(30)"
   ]
  },
  {
   "cell_type": "code",
   "execution_count": 56,
   "metadata": {
    "colab": {
     "base_uri": "https://localhost:8080/",
     "height": 962
    },
    "id": "t-qfO6TCQSN2",
    "outputId": "fabf3f3e-ee93-4234-bd0b-cc1f75eace7e"
   },
   "outputs": [
    {
     "data": {
      "image/png": "[encoded data removed]",
      "text/plain": [
       "<Figure size 720x432 with 1 Axes>"
      ]
     },
     "metadata": {
      "needs_background": "light"
     },
     "output_type": "display_data"
    }
   ],
   "source": [
    "# Plot review counts by product for moisturizers\n",
    "plt.figure(figsize=(10, 6))\n",
    "plt.bar(top30_moisturizers_products['product_name'], top30_moisturizers_products['counts'])\n",
    "plt.xlabel('Moisturizers Products')\n",
    "plt.ylabel('Counts of reviews')\n",
    "plt.title('Counts of product reviews for the top 30 Moisturizers Products')\n",
    "plt.xticks(rotation=90)  # Rotate x-axis labels for better readability\n",
    "plt.show()"
   ]
  },
  {
   "cell_type": "markdown",
   "metadata": {
    "id": "cHjTuqNWRgq_"
   },
   "source": [
    "### Distribution Analysis"
   ]
  },
  {
   "cell_type": "code",
   "execution_count": 57,
   "metadata": {
    "id": "cW02shFKRiMF"
   },
   "outputs": [],
   "source": [
    "# Get only the numerical variables\n",
    "df_num = total_reviews.select_dtypes(include = 'number')"
   ]
  },
  {
   "cell_type": "code",
   "execution_count": 58,
   "metadata": {
    "colab": {
     "base_uri": "https://localhost:8080/",
     "height": 1000
    },
    "id": "1WBfxioXRuGd",
    "outputId": "07016ef2-54df-4601-897b-d9c4f8c15704"
   },
   "outputs": [
    {
     "data": {
      "image/png": "[encoded data removed]",
      "text/plain": [
       "<Figure size 1440x1440 with 9 Axes>"
      ]
     },
     "metadata": {
      "needs_background": "light"
     },
     "output_type": "display_data"
    }
   ],
   "source": [
    "# Plot histograms to visualization numerical variable distributions\n",
    "df_num.hist(figsize = (20, 20));"
   ]
  },
  {
   "cell_type": "code",
   "execution_count": 59,
   "metadata": {
    "colab": {
     "base_uri": "https://localhost:8080/",
     "height": 564
    },
    "id": "gFk15CGlSMd8",
    "outputId": "a44ae249-5228-4317-8de9-fa9f788962d9"
   },
   "outputs": [
    {
     "data": {
      "image/png": "[encoded data removed]",
      "text/plain": [
       "<Figure size 720x432 with 1 Axes>"
      ]
     },
     "metadata": {
      "needs_background": "light"
     },
     "output_type": "display_data"
    }
   ],
   "source": [
    "# Visualization total number of reviews distribution\n",
    "plt.figure(figsize=(10, 6))  # Adjust the figure size as needed\n",
    "plt.hist(review_products_counts['counts'], bins=20, edgecolor='k')\n",
    "plt.title('Distribution of Customer Reviews for Products')\n",
    "plt.xlabel('Reviews')\n",
    "plt.ylabel('Counts')\n",
    "plt.grid(True)\n",
    "plt.show()"
   ]
  },
  {
   "cell_type": "code",
   "execution_count": null,
   "metadata": {
    "colab": {
     "base_uri": "https://localhost:8080/"
    },
    "id": "shX8x3hWTequ",
    "outputId": "5507c2a6-ef17-476c-f524-d7214b5f8384"
   },
   "outputs": [
    {
     "name": "stdout",
     "output_type": "stream",
     "text": [
      "There are 11 non numerical features including:\n",
      "['author_id', 'submission_time', 'review_text', 'review_title', 'skin_tone', 'eye_color', 'skin_type', 'hair_color', 'product_id', 'product_name', 'brand_name']\n"
     ]
    }
   ],
   "source": [
    "cate_reviews = total_reviews.select_dtypes(include = ['O'])\n",
    "print('There are {} non numerical features including:\\n{}'.format(len(cate_reviews.columns), cate_reviews.columns.tolist()))"
   ]
  },
  {
   "cell_type": "code",
   "execution_count": null,
   "metadata": {
    "id": "fONdvT6aTn51"
   },
   "outputs": [],
   "source": [
    "fig, axes = plt.subplots(round(len(cate_reviews.columns) / 3), 3, figsize=(12, 30))\n",
    "\n",
    "for i, ax in enumerate(fig.axes):\n",
    "    if i < len(cate_reviews.columns):\n",
    "        ax.tick_params(axis='x', rotation=45)\n",
    "        sns.countplot(x=cate_reviews.columns[i], alpha=0.7, data=cate_reviews, ax=ax)\n",
    "\n",
    "fig.tight_layout()"
   ]
  },
  {
   "cell_type": "code",
   "execution_count": null,
   "metadata": {
    "id": "tRbePdIvaSPI"
   },
   "outputs": [],
   "source": [
    "merged_products.head()"
   ]
  },
  {
   "cell_type": "markdown",
   "metadata": {
    "id": "PWop3OXLZwG-"
   },
   "source": [
    "### Correlation"
   ]
  },
  {
   "cell_type": "code",
   "execution_count": null,
   "metadata": {
    "id": "apUHTlSzZxka"
   },
   "outputs": [],
   "source": [
    "df_corr = merged_products.corr(numeric_only = True)\n",
    "plt.figure(figsize=(24, 24))\n",
    "\n",
    "sns.heatmap(df_corr,\n",
    "            cmap='viridis', vmax=1.0, vmin=-1.0, linewidths=0.1,\n",
    "            annot=True, annot_kws={\"size\": 8}, square=True);"
   ]
  },
  {
   "cell_type": "markdown",
   "metadata": {
    "id": "ViPSt38lclfe"
   },
   "source": [
    "### Missing value"
   ]
  },
  {
   "cell_type": "code",
   "execution_count": 25,
   "metadata": {
    "colab": {
     "base_uri": "https://localhost:8080/",
     "height": 390
    },
    "id": "LQgFhgK-cnF0",
    "outputId": "3afaee9f-bb95-41b9-bf0d-bf28cd63d4f8"
   },
   "outputs": [
    {
     "data": {
      "text/html": [
       "<div>\n",
       "<style scoped>\n",
       "    .dataframe tbody tr th:only-of-type {\n",
       "        vertical-align: middle;\n",
       "    }\n",
       "\n",
       "    .dataframe tbody tr th {\n",
       "        vertical-align: top;\n",
       "    }\n",
       "\n",
       "    .dataframe thead th {\n",
       "        text-align: right;\n",
       "    }\n",
       "</style>\n",
       "<table border=\"1\" class=\"dataframe\">\n",
       "  <thead>\n",
       "    <tr style=\"text-align: right;\">\n",
       "      <th></th>\n",
       "      <th>Missing Ratio</th>\n",
       "    </tr>\n",
       "  </thead>\n",
       "  <tbody>\n",
       "    <tr>\n",
       "      <th>variation_desc</th>\n",
       "      <td>0.994470</td>\n",
       "    </tr>\n",
       "    <tr>\n",
       "      <th>sale_price_usd</th>\n",
       "      <td>0.980859</td>\n",
       "    </tr>\n",
       "    <tr>\n",
       "      <th>value_price_usd</th>\n",
       "      <td>0.940876</td>\n",
       "    </tr>\n",
       "    <tr>\n",
       "      <th>child_max_price</th>\n",
       "      <td>0.830285</td>\n",
       "    </tr>\n",
       "    <tr>\n",
       "      <th>child_min_price</th>\n",
       "      <td>0.830285</td>\n",
       "    </tr>\n",
       "    <tr>\n",
       "      <th>highlights</th>\n",
       "      <td>0.176095</td>\n",
       "    </tr>\n",
       "    <tr>\n",
       "      <th>variation_value</th>\n",
       "      <td>0.164611</td>\n",
       "    </tr>\n",
       "    <tr>\n",
       "      <th>tertiary_category</th>\n",
       "      <td>0.149724</td>\n",
       "    </tr>\n",
       "    <tr>\n",
       "      <th>variation_type</th>\n",
       "      <td>0.144194</td>\n",
       "    </tr>\n",
       "    <tr>\n",
       "      <th>size</th>\n",
       "      <td>0.141642</td>\n",
       "    </tr>\n",
       "    <tr>\n",
       "      <th>ingredients</th>\n",
       "      <td>0.054020</td>\n",
       "    </tr>\n",
       "  </tbody>\n",
       "</table>\n",
       "</div>"
      ],
      "text/plain": [
       "                   Missing Ratio\n",
       "variation_desc          0.994470\n",
       "sale_price_usd          0.980859\n",
       "value_price_usd         0.940876\n",
       "child_max_price         0.830285\n",
       "child_min_price         0.830285\n",
       "highlights              0.176095\n",
       "variation_value         0.164611\n",
       "tertiary_category       0.149724\n",
       "variation_type          0.144194\n",
       "size                    0.141642\n",
       "ingredients             0.054020"
      ]
     },
     "execution_count": 25,
     "metadata": {},
     "output_type": "execute_result"
    }
   ],
   "source": [
    "df_na = merged_products.isnull().sum()/len(merged_products)\n",
    "df_na = df_na.drop(df_na[df_na == 0].index).sort_values(ascending=False)[:30]\n",
    "missing_data = pd.DataFrame({'Missing Ratio' :df_na})\n",
    "missing_data.head(20)"
   ]
  },
  {
   "cell_type": "code",
   "execution_count": 26,
   "metadata": {
    "colab": {
     "base_uri": "https://localhost:8080/",
     "height": 297
    },
    "id": "jeFxATkXcsIs",
    "outputId": "d94cbe56-7086-4079-da38-adc22f802cd6"
   },
   "outputs": [
    {
     "data": {
      "text/html": [
       "<div>\n",
       "<style scoped>\n",
       "    .dataframe tbody tr th:only-of-type {\n",
       "        vertical-align: middle;\n",
       "    }\n",
       "\n",
       "    .dataframe tbody tr th {\n",
       "        vertical-align: top;\n",
       "    }\n",
       "\n",
       "    .dataframe thead th {\n",
       "        text-align: right;\n",
       "    }\n",
       "</style>\n",
       "<table border=\"1\" class=\"dataframe\">\n",
       "  <thead>\n",
       "    <tr style=\"text-align: right;\">\n",
       "      <th></th>\n",
       "      <th>Missing Ratio</th>\n",
       "    </tr>\n",
       "  </thead>\n",
       "  <tbody>\n",
       "    <tr>\n",
       "      <th>helpfulness</th>\n",
       "      <td>0.513145</td>\n",
       "    </tr>\n",
       "    <tr>\n",
       "      <th>review_title</th>\n",
       "      <td>0.283855</td>\n",
       "    </tr>\n",
       "    <tr>\n",
       "      <th>hair_color</th>\n",
       "      <td>0.207206</td>\n",
       "    </tr>\n",
       "    <tr>\n",
       "      <th>eye_color</th>\n",
       "      <td>0.191544</td>\n",
       "    </tr>\n",
       "    <tr>\n",
       "      <th>skin_tone</th>\n",
       "      <td>0.155827</td>\n",
       "    </tr>\n",
       "    <tr>\n",
       "      <th>is_recommended</th>\n",
       "      <td>0.153496</td>\n",
       "    </tr>\n",
       "    <tr>\n",
       "      <th>skin_type</th>\n",
       "      <td>0.101933</td>\n",
       "    </tr>\n",
       "    <tr>\n",
       "      <th>review_text</th>\n",
       "      <td>0.001319</td>\n",
       "    </tr>\n",
       "  </tbody>\n",
       "</table>\n",
       "</div>"
      ],
      "text/plain": [
       "                Missing Ratio\n",
       "helpfulness          0.513145\n",
       "review_title         0.283855\n",
       "hair_color           0.207206\n",
       "eye_color            0.191544\n",
       "skin_tone            0.155827\n",
       "is_recommended       0.153496\n",
       "skin_type            0.101933\n",
       "review_text          0.001319"
      ]
     },
     "execution_count": 26,
     "metadata": {},
     "output_type": "execute_result"
    }
   ],
   "source": [
    "df_na = total_reviews.isnull().sum()/len(total_reviews)\n",
    "df_na = df_na.drop(df_na[df_na == 0].index).sort_values(ascending=False)[:30]\n",
    "missing_data = pd.DataFrame({'Missing Ratio' :df_na})\n",
    "missing_data.head(20)"
   ]
  },
  {
   "cell_type": "code",
   "execution_count": 27,
   "metadata": {
    "colab": {
     "base_uri": "https://localhost:8080/",
     "height": 819
    },
    "id": "EIOqdQYZcy9s",
    "outputId": "4d6a0c7b-d474-4405-89db-6429ec1892be",
    "scrolled": true
   },
   "outputs": [
    {
     "data": {
      "text/plain": [
       "Text(0.5, 1.0, 'Percent missing data by features')"
      ]
     },
     "execution_count": 27,
     "metadata": {},
     "output_type": "execute_result"
    },
    {
     "data": {
      "image/png": "[encoded data removed]",
      "text/plain": [
       "<Figure size 1080x864 with 1 Axes>"
      ]
     },
     "metadata": {
      "needs_background": "light"
     },
     "output_type": "display_data"
    }
   ],
   "source": [
    "# Visualize the missing ratios\n",
    "f, ax = plt.subplots(figsize=(15, 12))\n",
    "plt.xticks(rotation=90)\n",
    "sns.barplot(x=df_na.index, y=df_na)\n",
    "plt.xlabel('Features', fontsize=15)\n",
    "plt.ylabel('Percent of missing values', fontsize=15)\n",
    "plt.title('Percent missing data by features', fontsize=15)"
   ]
  },
  {
   "cell_type": "code",
   "execution_count": 28,
   "metadata": {
    "id": "XQtxBw3RdMxW"
   },
   "outputs": [
    {
     "data": {
      "text/plain": [
       "(1094411, 19)"
      ]
     },
     "execution_count": 28,
     "metadata": {},
     "output_type": "execute_result"
    }
   ],
   "source": [
    "total_reviews.shape"
   ]
  },
  {
   "cell_type": "markdown",
   "metadata": {
    "id": "DJg_cAj_OE_t"
   },
   "source": [
    "### Deal with Missing Data"
   ]
  },
  {
   "cell_type": "code",
   "execution_count": 12,
   "metadata": {
    "id": "53CeV66sOH9x"
   },
   "outputs": [],
   "source": [
    "# Get rid off all the dataframe where hair_color, eye_olor, and skin_tone are not null\n",
    "filtered_reviews = total_reviews.dropna(subset=[\"skin_tone\", \"eye_color\", \"skin_type\", \"hair_color\"], how=\"any\")"
   ]
  },
  {
   "cell_type": "code",
   "execution_count": 13,
   "metadata": {
    "colab": {
     "base_uri": "https://localhost:8080/"
    },
    "id": "naP62dVPPDWz",
    "outputId": "f454347b-c0e7-477c-9211-36658ae718a6"
   },
   "outputs": [
    {
     "data": {
      "text/plain": [
       "(844865, 19)"
      ]
     },
     "execution_count": 13,
     "metadata": {},
     "output_type": "execute_result"
    }
   ],
   "source": [
    "filtered_reviews.shape"
   ]
  },
  {
   "cell_type": "markdown",
   "metadata": {
    "id": "FIiCU49CFbo3"
   },
   "source": [
    "## Information for the two dataframe"
   ]
  },
  {
   "cell_type": "code",
   "execution_count": null,
   "metadata": {
    "colab": {
     "base_uri": "https://localhost:8080/"
    },
    "id": "GEKQax3sFgAl",
    "outputId": "49f8ce26-8185-46f4-bee1-f509eddf01fb"
   },
   "outputs": [
    {
     "name": "stdout",
     "output_type": "stream",
     "text": [
      "<class 'pandas.core.frame.DataFrame'>\n",
      "Int64Index: 2351 entries, 89 to 8428\n",
      "Data columns (total 27 columns):\n",
      " #   Column              Non-Null Count  Dtype  \n",
      "---  ------              --------------  -----  \n",
      " 0   product_id          2351 non-null   object \n",
      " 1   product_name        2351 non-null   object \n",
      " 2   brand_id            2351 non-null   int64  \n",
      " 3   brand_name          2351 non-null   object \n",
      " 4   loves_count         2351 non-null   int64  \n",
      " 5   rating              2351 non-null   float64\n",
      " 6   reviews             2351 non-null   float64\n",
      " 7   size                2018 non-null   object \n",
      " 8   variation_type      2012 non-null   object \n",
      " 9   variation_value     1964 non-null   object \n",
      " 10  variation_desc      13 non-null     object \n",
      " 11  ingredients         2224 non-null   object \n",
      " 12  price_usd           2351 non-null   float64\n",
      " 13  value_price_usd     139 non-null    float64\n",
      " 14  sale_price_usd      45 non-null     float64\n",
      " 15  limited_edition     2351 non-null   int64  \n",
      " 16  new                 2351 non-null   int64  \n",
      " 17  online_only         2351 non-null   int64  \n",
      " 18  out_of_stock        2351 non-null   int64  \n",
      " 19  sephora_exclusive   2351 non-null   int64  \n",
      " 20  highlights          1937 non-null   object \n",
      " 21  primary_category    2351 non-null   object \n",
      " 22  secondary_category  2351 non-null   object \n",
      " 23  tertiary_category   1999 non-null   object \n",
      " 24  child_count         2351 non-null   int64  \n",
      " 25  child_max_price     399 non-null    float64\n",
      " 26  child_min_price     399 non-null    float64\n",
      "dtypes: float64(7), int64(8), object(12)\n",
      "memory usage: 514.3+ KB\n"
     ]
    }
   ],
   "source": [
    "filtered_products.info()"
   ]
  },
  {
   "cell_type": "code",
   "execution_count": null,
   "metadata": {
    "colab": {
     "base_uri": "https://localhost:8080/"
    },
    "id": "zTmGo5XWFlcV",
    "outputId": "f24f7f99-82fc-483a-e20a-64641783618d"
   },
   "outputs": [
    {
     "name": "stdout",
     "output_type": "stream",
     "text": [
      "<class 'pandas.core.frame.DataFrame'>\n",
      "RangeIndex: 1094411 entries, 0 to 1094410\n",
      "Data columns (total 19 columns):\n",
      " #   Column                    Non-Null Count    Dtype  \n",
      "---  ------                    --------------    -----  \n",
      " 0   Unnamed: 0                1094411 non-null  int64  \n",
      " 1   author_id                 1094411 non-null  object \n",
      " 2   rating                    1094411 non-null  int64  \n",
      " 3   is_recommended            926423 non-null   float64\n",
      " 4   helpfulness               532819 non-null   float64\n",
      " 5   total_feedback_count      1094411 non-null  int64  \n",
      " 6   total_neg_feedback_count  1094411 non-null  int64  \n",
      " 7   total_pos_feedback_count  1094411 non-null  int64  \n",
      " 8   submission_time           1094411 non-null  object \n",
      " 9   review_text               1092967 non-null  object \n",
      " 10  review_title              783757 non-null   object \n",
      " 11  skin_tone                 923872 non-null   object \n",
      " 12  eye_color                 884783 non-null   object \n",
      " 13  skin_type                 982854 non-null   object \n",
      " 14  hair_color                867643 non-null   object \n",
      " 15  product_id                1094411 non-null  object \n",
      " 16  product_name              1094411 non-null  object \n",
      " 17  brand_name                1094411 non-null  object \n",
      " 18  price_usd                 1094411 non-null  float64\n",
      "dtypes: float64(3), int64(5), object(11)\n",
      "memory usage: 158.6+ MB\n"
     ]
    }
   ],
   "source": [
    "total_reviews.info()"
   ]
  },
  {
   "cell_type": "markdown",
   "metadata": {
    "id": "cKaUgyv-Pg_t"
   },
   "source": [
    "## Filter out only the moisturizers\n",
    "\n",
    "Our ultimate recommendation system will depend on the category of skincare products that the customer wants. We will start off with moisturizers because this is the category of skincare products that has the largest number of products. If time permits, we will train models for other skincare product categories.\n",
    "\n"
   ]
  },
  {
   "cell_type": "code",
   "execution_count": 14,
   "metadata": {
    "id": "9JJNqJK3Pgcn"
   },
   "outputs": [],
   "source": [
    "moisturizers_products = filtered_products[filtered_products['secondary_category'] == 'Moisturizers']"
   ]
  },
  {
   "cell_type": "code",
   "execution_count": 15,
   "metadata": {
    "id": "yFTNVqtQP3X5"
   },
   "outputs": [],
   "source": [
    "moisturizers_reviews = filtered_reviews[filtered_reviews['product_id'].isin(moisturizers_products['product_id'])]"
   ]
  },
  {
   "cell_type": "code",
   "execution_count": 16,
   "metadata": {
    "colab": {
     "base_uri": "https://localhost:8080/"
    },
    "id": "e4jAWxDuQ4eq",
    "outputId": "5e387648-50ee-40e0-bd85-1d2110809fb0"
   },
   "outputs": [
    {
     "data": {
      "text/plain": [
       "(224772, 19)"
      ]
     },
     "execution_count": 16,
     "metadata": {},
     "output_type": "execute_result"
    }
   ],
   "source": [
    "moisturizers_reviews.shape"
   ]
  },
  {
   "cell_type": "markdown",
   "metadata": {
    "id": "u61GCS0yNSjt"
   },
   "source": [
    "#### Find how many reviews are there for each product\n",
    "\n",
    "Our recommendation system requires us to train a model for each product because we want to predict how customers with a certain set of physical attributes would rate a certain product. Thus, counting the number of reviews for each product is important because we want to ensure that we have enough data for training."
   ]
  },
  {
   "cell_type": "code",
   "execution_count": 17,
   "metadata": {
    "id": "N4D-F29kNWN1"
   },
   "outputs": [],
   "source": [
    "moisturizers_product_names = moisturizers_reviews['product_id'].unique()"
   ]
  },
  {
   "cell_type": "code",
   "execution_count": 18,
   "metadata": {
    "id": "wgc3J70oNcpa"
   },
   "outputs": [],
   "source": [
    "num_of_moisturizers_reviews = []\n",
    "for name in moisturizers_product_names:\n",
    "  num_of_reviews = len(moisturizers_reviews[moisturizers_reviews['product_id'] == name])\n",
    "  num_of_moisturizers_reviews.append(num_of_reviews)"
   ]
  },
  {
   "cell_type": "code",
   "execution_count": 19,
   "metadata": {
    "id": "UDUsOJjsPD6k"
   },
   "outputs": [],
   "source": [
    "d = {'moisturizer_products': moisturizers_product_names, 'number_of_reviews': num_of_moisturizers_reviews}\n",
    "num_moisturizers_reviews = pd.DataFrame(data = d)"
   ]
  },
  {
   "cell_type": "code",
   "execution_count": null,
   "metadata": {
    "colab": {
     "base_uri": "https://localhost:8080/"
    },
    "id": "J-3YalIgRDNw",
    "outputId": "134f572e-f2f2-4e9d-acd6-e5a2ab9e92da"
   },
   "outputs": [
    {
     "data": {
      "text/plain": [
       "1.0"
      ]
     },
     "execution_count": 22,
     "metadata": {},
     "output_type": "execute_result"
    }
   ],
   "source": [
    "len(num_moisturizers_reviews[num_moisturizers_reviews['number_of_reviews'] != 0])/len(num_moisturizers_reviews)"
   ]
  },
  {
   "cell_type": "code",
   "execution_count": null,
   "metadata": {
    "colab": {
     "base_uri": "https://localhost:8080/"
    },
    "id": "JONVhaCCR6Ci",
    "outputId": "7f279c77-fe2d-43ef-9ca7-83e5b6d4c01b"
   },
   "outputs": [
    {
     "data": {
      "text/plain": [
       "64"
      ]
     },
     "execution_count": 74,
     "metadata": {},
     "output_type": "execute_result"
    }
   ],
   "source": [
    "len(num_moisturizers_reviews[num_moisturizers_reviews['number_of_reviews'] >= 1000])"
   ]
  },
  {
   "cell_type": "code",
   "execution_count": null,
   "metadata": {
    "colab": {
     "base_uri": "https://localhost:8080/"
    },
    "id": "vtRnv2shScOL",
    "outputId": "fefaa6c6-3556-4eef-b7c8-5b1cdd73e6ab"
   },
   "outputs": [
    {
     "data": {
      "text/plain": [
       "23"
      ]
     },
     "execution_count": 78,
     "metadata": {},
     "output_type": "execute_result"
    }
   ],
   "source": [
    "len(num_moisturizers_reviews[num_moisturizers_reviews['number_of_reviews'] >= 2000])"
   ]
  },
  {
   "cell_type": "markdown",
   "metadata": {
    "id": "pD896WG_R0g6"
   },
   "source": [
    "#### Conclusion: All of the moisturizer products have been reviewed. There are 64 products with reviews over 1000 and 23 products with reviews over 2000\n",
    "Later in this notebook, we will do some baseline modeling with linear regression to determine the if 1,000 or 2,000 reviews is the better cutoff. Overall, we need pick a large enough cutoff because:\n",
    "1.   We need to make sure there is enough data on each product for training.\n",
    "2.   Since we need to train a model for each product, we want to avoid excessive computation cost. Thus, training 24 models make more sense than training 64 models.\n",
    "3. In general, customers tend to prefer purchasing products that have been frequently reviewed by other customers."
   ]
  },
  {
   "cell_type": "markdown",
   "metadata": {
    "id": "gYOxMX8ppPa9"
   },
   "source": [
    "### Check Skewness of Values and Engineer New Feature called recommendation_scores to resolve the skewness of data"
   ]
  },
  {
   "cell_type": "code",
   "execution_count": 20,
   "metadata": {
    "colab": {
     "base_uri": "https://localhost:8080/"
    },
    "id": "7HiLOS7trhjG",
    "outputId": "25135bb6-13f0-4f2c-a211-21cb7f9834e2"
   },
   "outputs": [
    {
     "data": {
      "text/plain": [
       "Index(['Unnamed: 0', 'author_id', 'rating', 'is_recommended', 'helpfulness',\n",
       "       'total_feedback_count', 'total_neg_feedback_count',\n",
       "       'total_pos_feedback_count', 'submission_time', 'review_text',\n",
       "       'review_title', 'skin_tone', 'eye_color', 'skin_type', 'hair_color',\n",
       "       'product_id', 'product_name', 'brand_name', 'price_usd'],\n",
       "      dtype='object')"
      ]
     },
     "execution_count": 20,
     "metadata": {},
     "output_type": "execute_result"
    }
   ],
   "source": [
    "moisturizers_reviews.columns"
   ]
  },
  {
   "cell_type": "code",
   "execution_count": 21,
   "metadata": {
    "colab": {
     "base_uri": "https://localhost:8080/",
     "height": 195
    },
    "id": "AVk4kbzmrX56",
    "outputId": "331566d3-d79c-4ff7-9ae2-787d752f4808"
   },
   "outputs": [
    {
     "name": "stdout",
     "output_type": "stream",
     "text": [
      "\n",
      "Skew in numerical features: \n",
      "\n"
     ]
    },
    {
     "data": {
      "text/html": [
       "<div>\n",
       "<style scoped>\n",
       "    .dataframe tbody tr th:only-of-type {\n",
       "        vertical-align: middle;\n",
       "    }\n",
       "\n",
       "    .dataframe tbody tr th {\n",
       "        vertical-align: top;\n",
       "    }\n",
       "\n",
       "    .dataframe thead th {\n",
       "        text-align: right;\n",
       "    }\n",
       "</style>\n",
       "<table border=\"1\" class=\"dataframe\">\n",
       "  <thead>\n",
       "    <tr style=\"text-align: right;\">\n",
       "      <th></th>\n",
       "      <th>Skew</th>\n",
       "    </tr>\n",
       "  </thead>\n",
       "  <tbody>\n",
       "    <tr>\n",
       "      <th>helpfulness</th>\n",
       "      <td>-1.355496</td>\n",
       "    </tr>\n",
       "    <tr>\n",
       "      <th>rating</th>\n",
       "      <td>-1.676016</td>\n",
       "    </tr>\n",
       "    <tr>\n",
       "      <th>is_recommended</th>\n",
       "      <td>-1.916030</td>\n",
       "    </tr>\n",
       "  </tbody>\n",
       "</table>\n",
       "</div>"
      ],
      "text/plain": [
       "                    Skew\n",
       "helpfulness    -1.355496\n",
       "rating         -1.676016\n",
       "is_recommended -1.916030"
      ]
     },
     "execution_count": 21,
     "metadata": {},
     "output_type": "execute_result"
    }
   ],
   "source": [
    "from scipy.stats import skew\n",
    "\n",
    "numeric_feats = ['rating', 'is_recommended', 'helpfulness']\n",
    "\n",
    "# Check the skew of all numerical features\n",
    "skewed_feats = moisturizers_reviews[numeric_feats].apply(lambda x: skew(x.dropna())).sort_values(ascending=False)\n",
    "print(\"\\nSkew in numerical features: \\n\")\n",
    "skewness = pd.DataFrame({'Skew' :skewed_feats})\n",
    "skewness.head(10)"
   ]
  },
  {
   "cell_type": "markdown",
   "metadata": {
    "id": "NRtCmWY8rrw_"
   },
   "source": [
    "All the columns above are skewed to the left, meaning they have more data on the higher end. We want to resolve the skewness, since we don't want the model to predict 80% of the products as having a rating of 5, that would be very hard to make recommendation"
   ]
  },
  {
   "cell_type": "markdown",
   "metadata": {
    "id": "ScqoKMVLr_Ax"
   },
   "source": [
    "To address skewness, let us combine all three columns to engineer a new feature."
   ]
  },
  {
   "cell_type": "code",
   "execution_count": 22,
   "metadata": {
    "colab": {
     "base_uri": "https://localhost:8080/"
    },
    "id": "hNW1eBvlrqBj",
    "outputId": "c0da10d0-8994-4262-e127-fd39bfcee1f3"
   },
   "outputs": [
    {
     "name": "stdout",
     "output_type": "stream",
     "text": [
      "Number of rows with rating 5 and is_recommended not equal to 1: 194\n"
     ]
    }
   ],
   "source": [
    "# First, I want to check if rating and is_recommended always align with each other.\n",
    "# It turns out not, so is_recommended can be taken into account\n",
    "rows_with_rating_5_not_recommended = moisturizers_reviews[\n",
    "    (moisturizers_reviews['rating'] == 5) & (moisturizers_reviews['is_recommended'] != 1)\n",
    "]\n",
    "\n",
    "# Get the number of rows meeting the criteria\n",
    "num_rows = len(rows_with_rating_5_not_recommended)\n",
    "\n",
    "print(f\"Number of rows with rating 5 and is_recommended not equal to 1: {num_rows}\")\n"
   ]
  },
  {
   "cell_type": "code",
   "execution_count": 23,
   "metadata": {
    "id": "RB6cazHY63L-"
   },
   "outputs": [],
   "source": [
    "# Before engineering new features, address NaN in helpfulness\n",
    "# Replace NaN values with the mean of the 'helpfulness' column\n",
    "mean_helpfulness = moisturizers_reviews['helpfulness'].mean()\n",
    "moisturizers_reviews['helpfulness'].fillna(mean_helpfulness, inplace=True)"
   ]
  },
  {
   "cell_type": "code",
   "execution_count": 24,
   "metadata": {
    "id": "9e4OMKiesqdR"
   },
   "outputs": [],
   "source": [
    "# Engineer new feature: (recommendation_scores = (rating + is_recommended)*helpfulness)**2\n",
    "# squaring the data to provide a wider interval and make the skewness better\n",
    "moisturizers_reviews.loc[:, 'recommendation_scores'] = ((moisturizers_reviews['rating'] + moisturizers_reviews['is_recommended']) * moisturizers_reviews['helpfulness'])**2"
   ]
  },
  {
   "cell_type": "code",
   "execution_count": 25,
   "metadata": {
    "colab": {
     "base_uri": "https://localhost:8080/"
    },
    "id": "bQq2UjANtk8y",
    "outputId": "87edcc09-b1e5-46b1-9467-2af2794918df"
   },
   "outputs": [
    {
     "name": "stdout",
     "output_type": "stream",
     "text": [
      "Skewness of 'recommendation_scores': -0.09575793365403244\n"
     ]
    }
   ],
   "source": [
    "# check skewness of this new feature\n",
    "skewness_rec = moisturizers_reviews['recommendation_scores'].skew()\n",
    "\n",
    "# Print the skewness\n",
    "print(f\"Skewness of 'recommendation_scores': {skewness_rec}\")"
   ]
  },
  {
   "cell_type": "code",
   "execution_count": 26,
   "metadata": {
    "colab": {
     "base_uri": "https://localhost:8080/",
     "height": 447
    },
    "id": "fOLGPcWtutQl",
    "outputId": "6f388a0d-802d-4f62-e483-fee68ca9cf70"
   },
   "outputs": [
    {
     "data": {
      "text/plain": [
       "<AxesSubplot:>"
      ]
     },
     "execution_count": 26,
     "metadata": {},
     "output_type": "execute_result"
    },
    {
     "data": {
      "image/png": "[encoded data removed]",
      "text/plain": [
       "<Figure size 432x288 with 1 Axes>"
      ]
     },
     "metadata": {
      "needs_background": "light"
     },
     "output_type": "display_data"
    }
   ],
   "source": [
    "# Plot the histogram of this new feature\n",
    "moisturizers_reviews['recommendation_scores'].hist()"
   ]
  },
  {
   "cell_type": "markdown",
   "metadata": {
    "id": "as7ck4rcMLVj"
   },
   "source": [
    "We have successfully changed the distribution to reduce skewness. (Note that, according to an error message, the Box Cox transformation would not work for our purposes because the interval is too small.)"
   ]
  },
  {
   "cell_type": "markdown",
   "metadata": {
    "id": "1J0lSVc9TX5Z"
   },
   "source": [
    "#### Prepare Data"
   ]
  },
  {
   "cell_type": "code",
   "execution_count": null,
   "metadata": {
    "colab": {
     "base_uri": "https://localhost:8080/",
     "height": 206
    },
    "id": "7GMpGU5sTVS4",
    "outputId": "0571cc88-3cfb-4fe8-a511-c5e18c6200f3"
   },
   "outputs": [
    {
     "data": {
      "text/html": [
       "\n",
       "  <div id=\"df-c2df1a88-23ac-4a1d-aa12-d71119f0d9ce\" class=\"colab-df-container\">\n",
       "    <div>\n",
       "<style scoped>\n",
       "    .dataframe tbody tr th:only-of-type {\n",
       "        vertical-align: middle;\n",
       "    }\n",
       "\n",
       "    .dataframe tbody tr th {\n",
       "        vertical-align: top;\n",
       "    }\n",
       "\n",
       "    .dataframe thead th {\n",
       "        text-align: right;\n",
       "    }\n",
       "</style>\n",
       "<table border=\"1\" class=\"dataframe\">\n",
       "  <thead>\n",
       "    <tr style=\"text-align: right;\">\n",
       "      <th></th>\n",
       "      <th>moisturizer_products</th>\n",
       "      <th>number_of_reviews</th>\n",
       "    </tr>\n",
       "  </thead>\n",
       "  <tbody>\n",
       "    <tr>\n",
       "      <th>0</th>\n",
       "      <td>P218700</td>\n",
       "      <td>925</td>\n",
       "    </tr>\n",
       "    <tr>\n",
       "      <th>1</th>\n",
       "      <td>P248407</td>\n",
       "      <td>2006</td>\n",
       "    </tr>\n",
       "    <tr>\n",
       "      <th>2</th>\n",
       "      <td>P394639</td>\n",
       "      <td>5429</td>\n",
       "    </tr>\n",
       "    <tr>\n",
       "      <th>3</th>\n",
       "      <td>P427421</td>\n",
       "      <td>5734</td>\n",
       "    </tr>\n",
       "    <tr>\n",
       "      <th>4</th>\n",
       "      <td>P411540</td>\n",
       "      <td>4478</td>\n",
       "    </tr>\n",
       "  </tbody>\n",
       "</table>\n",
       "</div>\n",
       "    <div class=\"colab-df-buttons\">\n",
       "\n",
       "  <div class=\"colab-df-container\">\n",
       "    <button class=\"colab-df-convert\" onclick=\"convertToInteractive('df-c2df1a88-23ac-4a1d-aa12-d71119f0d9ce')\"\n",
       "            title=\"Convert this dataframe to an interactive table.\"\n",
       "            style=\"display:none;\">\n",
       "\n",
       "  <svg xmlns=\"http://www.w3.org/2000/svg\" height=\"24px\" viewBox=\"0 -960 960 960\">\n",
       "    <path d=\"M120-120v-720h720v720H120Zm60-500h600v-160H180v160Zm220 220h160v-160H400v160Zm0 220h160v-160H400v160ZM180-400h160v-160H180v160Zm440 0h160v-160H620v160ZM180-180h160v-160H180v160Zm440 0h160v-160H620v160Z\"/>\n",
       "  </svg>\n",
       "    </button>\n",
       "\n",
       "  <style>\n",
       "    .colab-df-container {\n",
       "      display:flex;\n",
       "      gap: 12px;\n",
       "    }\n",
       "\n",
       "    .colab-df-convert {\n",
       "      background-color: #E8F0FE;\n",
       "      border: none;\n",
       "      border-radius: 50%;\n",
       "      cursor: pointer;\n",
       "      display: none;\n",
       "      fill: #1967D2;\n",
       "      height: 32px;\n",
       "      padding: 0 0 0 0;\n",
       "      width: 32px;\n",
       "    }\n",
       "\n",
       "    .colab-df-convert:hover {\n",
       "      background-color: #E2EBFA;\n",
       "      box-shadow: 0px 1px 2px rgba(60, 64, 67, 0.3), 0px 1px 3px 1px rgba(60, 64, 67, 0.15);\n",
       "      fill: #174EA6;\n",
       "    }\n",
       "\n",
       "    .colab-df-buttons div {\n",
       "      margin-bottom: 4px;\n",
       "    }\n",
       "\n",
       "    [theme=dark] .colab-df-convert {\n",
       "      background-color: #3B4455;\n",
       "      fill: #D2E3FC;\n",
       "    }\n",
       "\n",
       "    [theme=dark] .colab-df-convert:hover {\n",
       "      background-color: #434B5C;\n",
       "      box-shadow: 0px 1px 3px 1px rgba(0, 0, 0, 0.15);\n",
       "      filter: drop-shadow(0px 1px 2px rgba(0, 0, 0, 0.3));\n",
       "      fill: #FFFFFF;\n",
       "    }\n",
       "  </style>\n",
       "\n",
       "    <script>\n",
       "      const buttonEl =\n",
       "        document.querySelector('#df-c2df1a88-23ac-4a1d-aa12-d71119f0d9ce button.colab-df-convert');\n",
       "      buttonEl.style.display =\n",
       "        google.colab.kernel.accessAllowed ? 'block' : 'none';\n",
       "\n",
       "      async function convertToInteractive(key) {\n",
       "        const element = document.querySelector('#df-c2df1a88-23ac-4a1d-aa12-d71119f0d9ce');\n",
       "        const dataTable =\n",
       "          await google.colab.kernel.invokeFunction('convertToInteractive',\n",
       "                                                    [key], {});\n",
       "        if (!dataTable) return;\n",
       "\n",
       "        const docLinkHtml = 'Like what you see? Visit the ' +\n",
       "          '<a target=\"_blank\" href=https://colab.research.google.com/notebooks/data_table.ipynb>data table notebook</a>'\n",
       "          + ' to learn more about interactive tables.';\n",
       "        element.innerHTML = '';\n",
       "        dataTable['output_type'] = 'display_data';\n",
       "        await google.colab.output.renderOutput(dataTable, element);\n",
       "        const docLink = document.createElement('div');\n",
       "        docLink.innerHTML = docLinkHtml;\n",
       "        element.appendChild(docLink);\n",
       "      }\n",
       "    </script>\n",
       "  </div>\n",
       "\n",
       "\n",
       "<div id=\"df-d282d69a-f1bb-48bb-b062-87a158426f8d\">\n",
       "  <button class=\"colab-df-quickchart\" onclick=\"quickchart('df-d282d69a-f1bb-48bb-b062-87a158426f8d')\"\n",
       "            title=\"Suggest charts\"\n",
       "            style=\"display:none;\">\n",
       "\n",
       "<svg xmlns=\"http://www.w3.org/2000/svg\" height=\"24px\"viewBox=\"0 0 24 24\"\n",
       "     width=\"24px\">\n",
       "    <g>\n",
       "        <path d=\"M19 3H5c-1.1 0-2 .9-2 2v14c0 1.1.9 2 2 2h14c1.1 0 2-.9 2-2V5c0-1.1-.9-2-2-2zM9 17H7v-7h2v7zm4 0h-2V7h2v10zm4 0h-2v-4h2v4z\"/>\n",
       "    </g>\n",
       "</svg>\n",
       "  </button>\n",
       "\n",
       "<style>\n",
       "  .colab-df-quickchart {\n",
       "      --bg-color: #E8F0FE;\n",
       "      --fill-color: #1967D2;\n",
       "      --hover-bg-color: #E2EBFA;\n",
       "      --hover-fill-color: #174EA6;\n",
       "      --disabled-fill-color: #AAA;\n",
       "      --disabled-bg-color: #DDD;\n",
       "  }\n",
       "\n",
       "  [theme=dark] .colab-df-quickchart {\n",
       "      --bg-color: #3B4455;\n",
       "      --fill-color: #D2E3FC;\n",
       "      --hover-bg-color: #434B5C;\n",
       "      --hover-fill-color: #FFFFFF;\n",
       "      --disabled-bg-color: #3B4455;\n",
       "      --disabled-fill-color: #666;\n",
       "  }\n",
       "\n",
       "  .colab-df-quickchart {\n",
       "    background-color: var(--bg-color);\n",
       "    border: none;\n",
       "    border-radius: 50%;\n",
       "    cursor: pointer;\n",
       "    display: none;\n",
       "    fill: var(--fill-color);\n",
       "    height: 32px;\n",
       "    padding: 0;\n",
       "    width: 32px;\n",
       "  }\n",
       "\n",
       "  .colab-df-quickchart:hover {\n",
       "    background-color: var(--hover-bg-color);\n",
       "    box-shadow: 0 1px 2px rgba(60, 64, 67, 0.3), 0 1px 3px 1px rgba(60, 64, 67, 0.15);\n",
       "    fill: var(--button-hover-fill-color);\n",
       "  }\n",
       "\n",
       "  .colab-df-quickchart-complete:disabled,\n",
       "  .colab-df-quickchart-complete:disabled:hover {\n",
       "    background-color: var(--disabled-bg-color);\n",
       "    fill: var(--disabled-fill-color);\n",
       "    box-shadow: none;\n",
       "  }\n",
       "\n",
       "  .colab-df-spinner {\n",
       "    border: 2px solid var(--fill-color);\n",
       "    border-color: transparent;\n",
       "    border-bottom-color: var(--fill-color);\n",
       "    animation:\n",
       "      spin 1s steps(1) infinite;\n",
       "  }\n",
       "\n",
       "  @keyframes spin {\n",
       "    0% {\n",
       "      border-color: transparent;\n",
       "      border-bottom-color: var(--fill-color);\n",
       "      border-left-color: var(--fill-color);\n",
       "    }\n",
       "    20% {\n",
       "      border-color: transparent;\n",
       "      border-left-color: var(--fill-color);\n",
       "      border-top-color: var(--fill-color);\n",
       "    }\n",
       "    30% {\n",
       "      border-color: transparent;\n",
       "      border-left-color: var(--fill-color);\n",
       "      border-top-color: var(--fill-color);\n",
       "      border-right-color: var(--fill-color);\n",
       "    }\n",
       "    40% {\n",
       "      border-color: transparent;\n",
       "      border-right-color: var(--fill-color);\n",
       "      border-top-color: var(--fill-color);\n",
       "    }\n",
       "    60% {\n",
       "      border-color: transparent;\n",
       "      border-right-color: var(--fill-color);\n",
       "    }\n",
       "    80% {\n",
       "      border-color: transparent;\n",
       "      border-right-color: var(--fill-color);\n",
       "      border-bottom-color: var(--fill-color);\n",
       "    }\n",
       "    90% {\n",
       "      border-color: transparent;\n",
       "      border-bottom-color: var(--fill-color);\n",
       "    }\n",
       "  }\n",
       "</style>\n",
       "\n",
       "  <script>\n",
       "    async function quickchart(key) {\n",
       "      const quickchartButtonEl =\n",
       "        document.querySelector('#' + key + ' button');\n",
       "      quickchartButtonEl.disabled = true;  // To prevent multiple clicks.\n",
       "      quickchartButtonEl.classList.add('colab-df-spinner');\n",
       "      try {\n",
       "        const charts = await google.colab.kernel.invokeFunction(\n",
       "            'suggestCharts', [key], {});\n",
       "      } catch (error) {\n",
       "        console.error('Error during call to suggestCharts:', error);\n",
       "      }\n",
       "      quickchartButtonEl.classList.remove('colab-df-spinner');\n",
       "      quickchartButtonEl.classList.add('colab-df-quickchart-complete');\n",
       "    }\n",
       "    (() => {\n",
       "      let quickchartButtonEl =\n",
       "        document.querySelector('#df-d282d69a-f1bb-48bb-b062-87a158426f8d button');\n",
       "      quickchartButtonEl.style.display =\n",
       "        google.colab.kernel.accessAllowed ? 'block' : 'none';\n",
       "    })();\n",
       "  </script>\n",
       "</div>\n",
       "    </div>\n",
       "  </div>\n"
      ],
      "text/plain": [
       "  moisturizer_products  number_of_reviews\n",
       "0              P218700                925\n",
       "1              P248407               2006\n",
       "2              P394639               5429\n",
       "3              P427421               5734\n",
       "4              P411540               4478"
      ]
     },
     "execution_count": 35,
     "metadata": {},
     "output_type": "execute_result"
    }
   ],
   "source": [
    "num_moisturizers_reviews.head()"
   ]
  },
  {
   "cell_type": "code",
   "execution_count": 27,
   "metadata": {
    "id": "p24v_ECOSvFY"
   },
   "outputs": [],
   "source": [
    "# first select the moisturizer products with reviews over 1000\n",
    "moist_products_1000 = num_moisturizers_reviews[num_moisturizers_reviews['number_of_reviews'] >= 1000]['moisturizer_products']\n",
    "moisturizers_reviews_1000 = moisturizers_reviews[moisturizers_reviews['product_id'].isin(moist_products_1000)]"
   ]
  },
  {
   "cell_type": "code",
   "execution_count": 28,
   "metadata": {
    "id": "oa9jphyvTwv9"
   },
   "outputs": [],
   "source": [
    "# get the names of all the products\n",
    "moist_productnames_1000 = moisturizers_reviews_1000['product_id'].unique()"
   ]
  },
  {
   "cell_type": "code",
   "execution_count": null,
   "metadata": {
    "colab": {
     "base_uri": "https://localhost:8080/"
    },
    "id": "eJO62jlNO5aa",
    "outputId": "34794f71-1b8e-409c-cd8b-9e14f02a0b75"
   },
   "outputs": [
    {
     "data": {
      "text/plain": [
       "array(['P248407', 'P394639', 'P427421', 'P411540', 'P394624', 'P418218',\n",
       "       'P270594', 'P433520', 'P480612', 'P441101'], dtype=object)"
      ]
     },
     "execution_count": 38,
     "metadata": {},
     "output_type": "execute_result"
    }
   ],
   "source": [
    "moist_productnames_1000[:10]"
   ]
  },
  {
   "cell_type": "code",
   "execution_count": 29,
   "metadata": {
    "id": "y5warMXPzeqs"
   },
   "outputs": [],
   "source": [
    "# Select the moisturizer products with reviews over 2000\n",
    "moist_products_2000 = num_moisturizers_reviews[num_moisturizers_reviews['number_of_reviews'] >= 2000]['moisturizer_products']\n",
    "moisturizers_reviews_2000 = moisturizers_reviews[moisturizers_reviews['product_id'].isin(moist_products_2000)]\n",
    "# get the names of all the products\n",
    "moist_productnames_2000 = moisturizers_reviews_2000['product_id'].unique()"
   ]
  },
  {
   "cell_type": "code",
   "execution_count": null,
   "metadata": {
    "colab": {
     "base_uri": "https://localhost:8080/"
    },
    "id": "zLy52cuOVa3X",
    "outputId": "34794f71-1b8e-409c-cd8b-9e14f02a0b75"
   },
   "outputs": [
    {
     "data": {
      "text/plain": [
       "array(['P248407', 'P394639', 'P427421', 'P411540', 'P394624', 'P418218',\n",
       "       'P270594', 'P433520', 'P480612', 'P441101'], dtype=object)"
      ]
     },
     "execution_count": 38,
     "metadata": {},
     "output_type": "execute_result"
    }
   ],
   "source": [
    "moist_productnames_2000[:10]"
   ]
  },
  {
   "cell_type": "markdown",
   "metadata": {
    "id": "h_8H9V2ijUl-"
   },
   "source": [
    "## Data modeling"
   ]
  },
  {
   "cell_type": "code",
   "execution_count": 30,
   "metadata": {
    "id": "gnIBVV6GTBlU"
   },
   "outputs": [],
   "source": [
    "# Import machine learning functions from scikit-learn\n",
    "\n",
    "from sklearn.metrics import mean_absolute_error\n",
    "from sklearn.linear_model import LinearRegression\n",
    "from sklearn.ensemble import RandomForestRegressor\n",
    "from sklearn.model_selection import cross_val_score\n",
    "from sklearn.model_selection import GridSearchCV\n",
    "from sklearn.metrics import r2_score"
   ]
  },
  {
   "cell_type": "markdown",
   "metadata": {
    "id": "wDvaRbDgTvGY"
   },
   "source": [
    "#### Linear Regression\n",
    "We will first predict \"rating\" and then predict \"recommendation_scores\" to see how the results compare. We will do this separately for moisturizers with over 1,000 reviews and those with over 2,000 reviews."
   ]
  },
  {
   "cell_type": "markdown",
   "metadata": {
    "id": "e533EKGx2W8V"
   },
   "source": [
    "1. Over 1000"
   ]
  },
  {
   "cell_type": "code",
   "execution_count": 43,
   "metadata": {
    "id": "QzcSQ8pTUWpc"
   },
   "outputs": [],
   "source": [
    "cv_scores_mae = []\n",
    "cv_scores_r2 = []\n",
    "\n",
    "for product in moist_productnames_1000:\n",
    "  individual_product_data = moisturizers_reviews_1000[moisturizers_reviews_1000['product_id'] == product]\n",
    "  X = individual_product_data[['skin_tone', 'eye_color', 'skin_type', 'hair_color']]\n",
    "  y = individual_product_data['rating']\n",
    "  X_num = pd.get_dummies(X)\n",
    "  model = LinearRegression()\n",
    "\n",
    "  # Use cross_validation to evaluate performance\n",
    "  cv_mae = cross_val_score(model, X_num, y, cv=5, scoring='neg_mean_absolute_error')\n",
    "  mean_cv_mae = -np.mean(cv_mae)\n",
    "  cv_scores_mae.append(mean_cv_mae)\n",
    "\n",
    "  cv_r2 = cross_val_score(model, X_num, y, cv=5, scoring='r2')\n",
    "  mean_cv_r2 = -np.mean(cv_r2)\n",
    "  cv_scores_r2.append(mean_cv_r2)"
   ]
  },
  {
   "cell_type": "code",
   "execution_count": 44,
   "metadata": {
    "colab": {
     "base_uri": "https://localhost:8080/",
     "height": 206
    },
    "id": "L6oRAKfZVrnf",
    "outputId": "ef6395e6-1132-48ca-bdf6-cc6b82e2f2e5"
   },
   "outputs": [
    {
     "data": {
      "text/html": [
       "<div>\n",
       "<style scoped>\n",
       "    .dataframe tbody tr th:only-of-type {\n",
       "        vertical-align: middle;\n",
       "    }\n",
       "\n",
       "    .dataframe tbody tr th {\n",
       "        vertical-align: top;\n",
       "    }\n",
       "\n",
       "    .dataframe thead th {\n",
       "        text-align: right;\n",
       "    }\n",
       "</style>\n",
       "<table border=\"1\" class=\"dataframe\">\n",
       "  <thead>\n",
       "    <tr style=\"text-align: right;\">\n",
       "      <th></th>\n",
       "      <th>product_id</th>\n",
       "      <th>cv_mean_absolute_error</th>\n",
       "      <th>cv_r2</th>\n",
       "    </tr>\n",
       "  </thead>\n",
       "  <tbody>\n",
       "    <tr>\n",
       "      <th>0</th>\n",
       "      <td>P248407</td>\n",
       "      <td>9.459326e-01</td>\n",
       "      <td>6.353813e-02</td>\n",
       "    </tr>\n",
       "    <tr>\n",
       "      <th>1</th>\n",
       "      <td>P394639</td>\n",
       "      <td>8.750956e+10</td>\n",
       "      <td>4.862414e+24</td>\n",
       "    </tr>\n",
       "    <tr>\n",
       "      <th>2</th>\n",
       "      <td>P427421</td>\n",
       "      <td>2.575126e+10</td>\n",
       "      <td>1.054297e+24</td>\n",
       "    </tr>\n",
       "    <tr>\n",
       "      <th>3</th>\n",
       "      <td>P411540</td>\n",
       "      <td>6.284003e+10</td>\n",
       "      <td>3.513632e+24</td>\n",
       "    </tr>\n",
       "    <tr>\n",
       "      <th>4</th>\n",
       "      <td>P394624</td>\n",
       "      <td>6.326200e-01</td>\n",
       "      <td>2.016781e-02</td>\n",
       "    </tr>\n",
       "  </tbody>\n",
       "</table>\n",
       "</div>"
      ],
      "text/plain": [
       "  product_id  cv_mean_absolute_error         cv_r2\n",
       "0    P248407            9.459326e-01  6.353813e-02\n",
       "1    P394639            8.750956e+10  4.862414e+24\n",
       "2    P427421            2.575126e+10  1.054297e+24\n",
       "3    P411540            6.284003e+10  3.513632e+24\n",
       "4    P394624            6.326200e-01  2.016781e-02"
      ]
     },
     "execution_count": 44,
     "metadata": {},
     "output_type": "execute_result"
    }
   ],
   "source": [
    "d = {'product_id': moist_productnames_1000, 'cv_mean_absolute_error': cv_scores_mae, 'cv_r2': cv_scores_r2}\n",
    "lr_model_moisturizers_1000 = pd.DataFrame(data = d)\n",
    "lr_model_moisturizers_1000.head()"
   ]
  },
  {
   "cell_type": "markdown",
   "metadata": {
    "id": "pfr52KygaQD3"
   },
   "source": [
    "##### Evaluation of Linear Regression"
   ]
  },
  {
   "cell_type": "code",
   "execution_count": 45,
   "metadata": {
    "colab": {
     "base_uri": "https://localhost:8080/"
    },
    "id": "ADdjioHD46ap",
    "outputId": "58a72884-157e-41ea-b155-eec05bb984e8"
   },
   "outputs": [
    {
     "name": "stdout",
     "output_type": "stream",
     "text": [
      "the mean absolute error is  60505041604.358055\n",
      "the r2 is  2.8568257469050515e+24\n"
     ]
    }
   ],
   "source": [
    "print(\"the mean absolute error is \", lr_model_moisturizers_1000['cv_mean_absolute_error'].mean())\n",
    "print(\"the r2 is \", lr_model_moisturizers_1000['cv_r2'].mean())"
   ]
  },
  {
   "cell_type": "markdown",
   "metadata": {
    "id": "uDLrVl4K5NO3"
   },
   "source": [
    "2. over 2000"
   ]
  },
  {
   "cell_type": "code",
   "execution_count": 46,
   "metadata": {
    "id": "TWe21wtd5M6Y"
   },
   "outputs": [],
   "source": [
    "cv_scores_mae = []\n",
    "cv_scores_r2 = []\n",
    "\n",
    "for product in moist_productnames_2000:\n",
    "  individual_product_data = moisturizers_reviews_2000[moisturizers_reviews_2000['product_id'] == product]\n",
    "  X = individual_product_data[['skin_tone', 'eye_color', 'skin_type', 'hair_color']]\n",
    "  y = individual_product_data['rating']\n",
    "  X_num = pd.get_dummies(X)\n",
    "  model = LinearRegression()\n",
    "\n",
    "  # Use cross_validation to evaluate performance\n",
    "  cv_mae = cross_val_score(model, X_num, y, cv=5, scoring='neg_mean_absolute_error')\n",
    "  mean_cv_mae = -np.mean(cv_mae)\n",
    "  cv_scores_mae.append(mean_cv_mae)\n",
    "\n",
    "  cv_r2 = cross_val_score(model, X_num, y, cv=5, scoring='r2')\n",
    "  mean_cv_r2 = -np.mean(cv_r2)\n",
    "  cv_scores_r2.append(mean_cv_r2)\n"
   ]
  },
  {
   "cell_type": "code",
   "execution_count": 47,
   "metadata": {
    "colab": {
     "base_uri": "https://localhost:8080/",
     "height": 204
    },
    "id": "mR8iuYaO5azc",
    "outputId": "00b3b0fa-90b6-47c5-deba-ba8fae310ef7"
   },
   "outputs": [
    {
     "data": {
      "text/html": [
       "<div>\n",
       "<style scoped>\n",
       "    .dataframe tbody tr th:only-of-type {\n",
       "        vertical-align: middle;\n",
       "    }\n",
       "\n",
       "    .dataframe tbody tr th {\n",
       "        vertical-align: top;\n",
       "    }\n",
       "\n",
       "    .dataframe thead th {\n",
       "        text-align: right;\n",
       "    }\n",
       "</style>\n",
       "<table border=\"1\" class=\"dataframe\">\n",
       "  <thead>\n",
       "    <tr style=\"text-align: right;\">\n",
       "      <th></th>\n",
       "      <th>product_id</th>\n",
       "      <th>cv_mean_absolute_error</th>\n",
       "      <th>cv_r2</th>\n",
       "    </tr>\n",
       "  </thead>\n",
       "  <tbody>\n",
       "    <tr>\n",
       "      <th>0</th>\n",
       "      <td>P248407</td>\n",
       "      <td>9.459326e-01</td>\n",
       "      <td>6.353813e-02</td>\n",
       "    </tr>\n",
       "    <tr>\n",
       "      <th>1</th>\n",
       "      <td>P394639</td>\n",
       "      <td>8.750956e+10</td>\n",
       "      <td>4.862414e+24</td>\n",
       "    </tr>\n",
       "    <tr>\n",
       "      <th>2</th>\n",
       "      <td>P427421</td>\n",
       "      <td>2.575126e+10</td>\n",
       "      <td>1.054297e+24</td>\n",
       "    </tr>\n",
       "    <tr>\n",
       "      <th>3</th>\n",
       "      <td>P411540</td>\n",
       "      <td>6.284003e+10</td>\n",
       "      <td>3.513632e+24</td>\n",
       "    </tr>\n",
       "    <tr>\n",
       "      <th>4</th>\n",
       "      <td>P394624</td>\n",
       "      <td>6.326200e-01</td>\n",
       "      <td>2.016781e-02</td>\n",
       "    </tr>\n",
       "  </tbody>\n",
       "</table>\n",
       "</div>"
      ],
      "text/plain": [
       "  product_id  cv_mean_absolute_error         cv_r2\n",
       "0    P248407            9.459326e-01  6.353813e-02\n",
       "1    P394639            8.750956e+10  4.862414e+24\n",
       "2    P427421            2.575126e+10  1.054297e+24\n",
       "3    P411540            6.284003e+10  3.513632e+24\n",
       "4    P394624            6.326200e-01  2.016781e-02"
      ]
     },
     "execution_count": 47,
     "metadata": {},
     "output_type": "execute_result"
    }
   ],
   "source": [
    "d = {'product_id': moist_productnames_2000, 'cv_mean_absolute_error': cv_scores_mae, 'cv_r2': cv_scores_r2}\n",
    "lr_model_moisturizers_2000 = pd.DataFrame(data = d)\n",
    "lr_model_moisturizers_2000.head()"
   ]
  },
  {
   "cell_type": "code",
   "execution_count": 48,
   "metadata": {
    "colab": {
     "base_uri": "https://localhost:8080/"
    },
    "id": "htCV03Jc5frk",
    "outputId": "bf8cdd4c-a873-4287-c79f-f26e72df7579"
   },
   "outputs": [
    {
     "name": "stdout",
     "output_type": "stream",
     "text": [
      "the mean absolute error is  14842447622.492073\n",
      "the r2 is  5.0695245936805413e+23\n"
     ]
    }
   ],
   "source": [
    "print(\"the mean absolute error is \", lr_model_moisturizers_2000['cv_mean_absolute_error'].mean())\n",
    "print(\"the r2 is \", lr_model_moisturizers_2000['cv_r2'].mean())"
   ]
  },
  {
   "cell_type": "markdown",
   "metadata": {
    "id": "s2xEjgjn5xhV"
   },
   "source": [
    "With reviews above 2000, the performance is better. Probably due to more data"
   ]
  },
  {
   "cell_type": "markdown",
   "metadata": {
    "id": "ZssKVXSw53sa"
   },
   "source": [
    "3. Try with the new features plus above 2000"
   ]
  },
  {
   "cell_type": "code",
   "execution_count": 40,
   "metadata": {
    "id": "zQ9SseIY57Rm"
   },
   "outputs": [],
   "source": [
    "cv_scores_mae = []\n",
    "cv_scores_r2 = []\n",
    "\n",
    "for product in moist_productnames_2000:\n",
    "  individual_product_data = moisturizers_reviews_2000[moisturizers_reviews_2000['product_id'] == product]\n",
    "  X = individual_product_data[['skin_tone', 'eye_color', 'skin_type', 'hair_color']]\n",
    "  y = individual_product_data['recommendation_scores']\n",
    "  X_num = pd.get_dummies(X)\n",
    "  model = LinearRegression()\n",
    "\n",
    "  # Use cross_validation to evaluate performance\n",
    "  cv_mae = cross_val_score(model, X_num, y, cv=5, scoring='neg_mean_absolute_error')\n",
    "  mean_cv_mae = -np.mean(cv_mae)\n",
    "  cv_scores_mae.append(mean_cv_mae)\n",
    "\n",
    "  cv_r2 = cross_val_score(model, X_num, y, cv=5, scoring='r2')\n",
    "  mean_cv_r2 = -np.mean(cv_r2)\n",
    "  cv_scores_r2.append(mean_cv_r2)\n"
   ]
  },
  {
   "cell_type": "code",
   "execution_count": 41,
   "metadata": {
    "colab": {
     "base_uri": "https://localhost:8080/",
     "height": 204
    },
    "id": "XsNw7S3r6JR4",
    "outputId": "0225b8ea-536a-4183-8739-36ef2a67250c"
   },
   "outputs": [
    {
     "data": {
      "text/html": [
       "<div>\n",
       "<style scoped>\n",
       "    .dataframe tbody tr th:only-of-type {\n",
       "        vertical-align: middle;\n",
       "    }\n",
       "\n",
       "    .dataframe tbody tr th {\n",
       "        vertical-align: top;\n",
       "    }\n",
       "\n",
       "    .dataframe thead th {\n",
       "        text-align: right;\n",
       "    }\n",
       "</style>\n",
       "<table border=\"1\" class=\"dataframe\">\n",
       "  <thead>\n",
       "    <tr style=\"text-align: right;\">\n",
       "      <th></th>\n",
       "      <th>product_id</th>\n",
       "      <th>cv_mean_absolute_error</th>\n",
       "      <th>cv_r2</th>\n",
       "    </tr>\n",
       "  </thead>\n",
       "  <tbody>\n",
       "    <tr>\n",
       "      <th>0</th>\n",
       "      <td>P248407</td>\n",
       "      <td>8.910084e+00</td>\n",
       "      <td>3.200354e-02</td>\n",
       "    </tr>\n",
       "    <tr>\n",
       "      <th>1</th>\n",
       "      <td>P394639</td>\n",
       "      <td>2.470469e+11</td>\n",
       "      <td>5.627054e+23</td>\n",
       "    </tr>\n",
       "    <tr>\n",
       "      <th>2</th>\n",
       "      <td>P427421</td>\n",
       "      <td>2.212859e+11</td>\n",
       "      <td>1.096753e+24</td>\n",
       "    </tr>\n",
       "    <tr>\n",
       "      <th>3</th>\n",
       "      <td>P411540</td>\n",
       "      <td>4.092892e+11</td>\n",
       "      <td>2.712748e+24</td>\n",
       "    </tr>\n",
       "    <tr>\n",
       "      <th>4</th>\n",
       "      <td>P394624</td>\n",
       "      <td>5.963723e+00</td>\n",
       "      <td>2.191855e-02</td>\n",
       "    </tr>\n",
       "  </tbody>\n",
       "</table>\n",
       "</div>"
      ],
      "text/plain": [
       "  product_id  cv_mean_absolute_error         cv_r2\n",
       "0    P248407            8.910084e+00  3.200354e-02\n",
       "1    P394639            2.470469e+11  5.627054e+23\n",
       "2    P427421            2.212859e+11  1.096753e+24\n",
       "3    P411540            4.092892e+11  2.712748e+24\n",
       "4    P394624            5.963723e+00  2.191855e-02"
      ]
     },
     "execution_count": 41,
     "metadata": {},
     "output_type": "execute_result"
    }
   ],
   "source": [
    "d2 = {'product_id': moist_productnames_2000, 'cv_mean_absolute_error': cv_scores_mae, 'cv_r2': cv_scores_r2}\n",
    "lr_model_moisturizers_2000_rec = pd.DataFrame(data = d2)\n",
    "lr_model_moisturizers_2000_rec.head()"
   ]
  },
  {
   "cell_type": "code",
   "execution_count": 42,
   "metadata": {
    "colab": {
     "base_uri": "https://localhost:8080/"
    },
    "id": "8fbr4CMw6J03",
    "outputId": "5ecf4197-eb0c-4a69-ff8c-93273c6d75e8"
   },
   "outputs": [
    {
     "name": "stdout",
     "output_type": "stream",
     "text": [
      "the mean absolute error is  86287676725.55544\n",
      "the r2 is  2.6827539337947625e+23\n"
     ]
    }
   ],
   "source": [
    "print(\"the mean absolute error is \", lr_model_moisturizers_2000_rec['cv_mean_absolute_error'].mean())\n",
    "print(\"the r2 is \", lr_model_moisturizers_2000_rec['cv_r2'].mean())"
   ]
  },
  {
   "cell_type": "markdown",
   "metadata": {
    "id": "VZWOcpoAK5i2"
   },
   "source": [
    "Overall, it seems that model performance is better with the set of moisturizers with over 2,000 reviews. Therefore, from here, we will only focus on those 23 moisturizers with over 2,000 reviews.\n",
    "\n",
    "\n",
    "\n",
    "\n"
   ]
  },
  {
   "cell_type": "markdown",
   "metadata": {
    "id": "eOygWotFYb62"
   },
   "source": [
    "#### Random Forest\n",
    "Let us first try the default hyperparameters to predict the recommendation scores."
   ]
  },
  {
   "cell_type": "code",
   "execution_count": 71,
   "metadata": {
    "id": "ynM8jDdN7tO8"
   },
   "outputs": [],
   "source": [
    "cv_scores_mae = []\n",
    "cv_scores_r2 = []\n",
    "\n",
    "for product in moist_productnames_2000:\n",
    "    individual_product_data = moisturizers_reviews_2000[moisturizers_reviews_2000['product_id'] == product]\n",
    "    X = individual_product_data[['skin_tone', 'eye_color', 'skin_type', 'hair_color']]\n",
    "    y = individual_product_data['recommendation_scores']\n",
    "    X_num = pd.get_dummies(X)\n",
    "    \n",
    "    # Create a Random Forest Regressor\n",
    "    rf_regressor = RandomForestRegressor(random_state=0)\n",
    "    \n",
    "    # Use cross_validation to evaluate performance\n",
    "    cv_mae = cross_val_score(rf_regressor, X_num, y, cv=5, scoring='neg_mean_absolute_error')\n",
    "    mean_cv_mae = -np.mean(cv_mae)\n",
    "    cv_scores_mae.append(mean_cv_mae)\n",
    "    \n",
    "    cv_r2 = cross_val_score(rf_regressor, X_num, y, cv=5, scoring='r2')\n",
    "    mean_cv_r2 = -np.mean(cv_r2)\n",
    "    cv_scores_r2.append(mean_cv_r2)\n"
   ]
  },
  {
   "cell_type": "code",
   "execution_count": 72,
   "metadata": {
    "colab": {
     "base_uri": "https://localhost:8080/",
     "height": 204
    },
    "id": "tq-l-xYX8Grv",
    "outputId": "b8ccefe7-9659-4339-cf4a-aa0a668cb3ea",
    "scrolled": true
   },
   "outputs": [
    {
     "data": {
      "text/html": [
       "<div>\n",
       "<style scoped>\n",
       "    .dataframe tbody tr th:only-of-type {\n",
       "        vertical-align: middle;\n",
       "    }\n",
       "\n",
       "    .dataframe tbody tr th {\n",
       "        vertical-align: top;\n",
       "    }\n",
       "\n",
       "    .dataframe thead th {\n",
       "        text-align: right;\n",
       "    }\n",
       "</style>\n",
       "<table border=\"1\" class=\"dataframe\">\n",
       "  <thead>\n",
       "    <tr style=\"text-align: right;\">\n",
       "      <th></th>\n",
       "      <th>product_id</th>\n",
       "      <th>cv_mean_absolute_error</th>\n",
       "      <th>cv_r2</th>\n",
       "    </tr>\n",
       "  </thead>\n",
       "  <tbody>\n",
       "    <tr>\n",
       "      <th>0</th>\n",
       "      <td>P248407</td>\n",
       "      <td>9.546052</td>\n",
       "      <td>0.153247</td>\n",
       "    </tr>\n",
       "    <tr>\n",
       "      <th>1</th>\n",
       "      <td>P394639</td>\n",
       "      <td>6.627167</td>\n",
       "      <td>0.071506</td>\n",
       "    </tr>\n",
       "    <tr>\n",
       "      <th>2</th>\n",
       "      <td>P427421</td>\n",
       "      <td>9.790072</td>\n",
       "      <td>0.098632</td>\n",
       "    </tr>\n",
       "    <tr>\n",
       "      <th>3</th>\n",
       "      <td>P411540</td>\n",
       "      <td>9.779117</td>\n",
       "      <td>0.105623</td>\n",
       "    </tr>\n",
       "    <tr>\n",
       "      <th>4</th>\n",
       "      <td>P394624</td>\n",
       "      <td>6.495280</td>\n",
       "      <td>0.093808</td>\n",
       "    </tr>\n",
       "  </tbody>\n",
       "</table>\n",
       "</div>"
      ],
      "text/plain": [
       "  product_id  cv_mean_absolute_error     cv_r2\n",
       "0    P248407                9.546052  0.153247\n",
       "1    P394639                6.627167  0.071506\n",
       "2    P427421                9.790072  0.098632\n",
       "3    P411540                9.779117  0.105623\n",
       "4    P394624                6.495280  0.093808"
      ]
     },
     "execution_count": 72,
     "metadata": {},
     "output_type": "execute_result"
    }
   ],
   "source": [
    "d = {'product_id': moist_productnames_2000, 'cv_mean_absolute_error': cv_scores_mae, 'cv_r2': cv_scores_r2}\n",
    "rf_model_moisturizers_2000 = pd.DataFrame(data = d)\n",
    "rf_model_moisturizers_2000.head()"
   ]
  },
  {
   "cell_type": "markdown",
   "metadata": {},
   "source": [
    "##### Evaluation of random forest with default hyperparameters:"
   ]
  },
  {
   "cell_type": "code",
   "execution_count": 73,
   "metadata": {
    "colab": {
     "base_uri": "https://localhost:8080/"
    },
    "id": "esIO-e0w8MQV",
    "outputId": "583b438b-e73e-4254-baf8-eecfcd66eb4b",
    "scrolled": true
   },
   "outputs": [
    {
     "name": "stdout",
     "output_type": "stream",
     "text": [
      "the mean absolute error is  7.570409720455249\n",
      "the r2 is  0.16489653736722884\n"
     ]
    }
   ],
   "source": [
    "print(\"the mean absolute error is \", rf_model_moisturizers_2000['cv_mean_absolute_error'].mean())\n",
    "print(\"the r2 is \", rf_model_moisturizers_2000['cv_r2'].mean())"
   ]
  },
  {
   "cell_type": "markdown",
   "metadata": {
    "id": "kWiWMd86Xqkf"
   },
   "source": [
    "##### Try Fine-tuning\n",
    "We will only do this for the a randomly chosen product because grid search is highly computationally expensive. We will use the best hyperparameters for the remaining products. "
   ]
  },
  {
   "cell_type": "code",
   "execution_count": 53,
   "metadata": {
    "scrolled": true
   },
   "outputs": [
    {
     "data": {
      "text/plain": [
       "'P248407'"
      ]
     },
     "execution_count": 53,
     "metadata": {},
     "output_type": "execute_result"
    }
   ],
   "source": [
    "moist_productnames_1000[0]"
   ]
  },
  {
   "cell_type": "code",
   "execution_count": 66,
   "metadata": {
    "colab": {
     "base_uri": "https://localhost:8080/"
    },
    "id": "V1ZawpAtENco",
    "outputId": "959420d9-652a-4b18-bc94-6e1e94bc4828"
   },
   "outputs": [
    {
     "name": "stdout",
     "output_type": "stream",
     "text": [
      "Best Hyperparameters: {'max_depth': 10, 'max_features': 'log2', 'min_samples_leaf': 4, 'min_samples_split': 10, 'n_estimators': 50}\n"
     ]
    }
   ],
   "source": [
    "import warnings\n",
    "warnings.filterwarnings(\"ignore\")\n",
    "\n",
    "# Set a random state for reproducibility\n",
    "np.random.RandomState(seed = 0)\n",
    "\n",
    "# Randomly choose a product\n",
    "chosen = np.random.choice(range(len(moist_productnames_2000)))\n",
    "\n",
    "# Split data \n",
    "individual_product_data = moisturizers_reviews_2000[moisturizers_reviews_2000['product_id'] == moist_productnames_2000[chosen]]\n",
    "X = individual_product_data[['skin_tone', 'eye_color', 'skin_type', 'hair_color']]\n",
    "y = individual_product_data['recommendation_scores']\n",
    "X_num = pd.get_dummies(X)\n",
    "\n",
    "# Define the parameter grid\n",
    "param_grid = {\n",
    "'n_estimators': [50, 100, 200],\n",
    "'max_depth': [None, 10, 20],\n",
    "'min_samples_split': [2, 5, 10],\n",
    "'min_samples_leaf': [1, 2, 4],\n",
    "'max_features': ['auto', 'sqrt', 'log2']}\n",
    "\n",
    "# Create the GridSearchCV object\n",
    "grid_search = GridSearchCV(RandomForestRegressor(random_state=0), param_grid, cv=5, n_jobs = -1)\n",
    "\n",
    "# Fit the model to the data\n",
    "grid_search.fit(X_num, y)\n",
    "\n",
    "# Get the best parameters\n",
    "best_params = grid_search.best_params_\n",
    "print(\"Best Hyperparameters:\", best_params)"
   ]
  },
  {
   "cell_type": "markdown",
   "metadata": {
    "id": "09NkpqtsGcoR"
   },
   "source": [
    "Best Hyperparameters: {'max_depth': 10, 'max_features': 'log2', 'min_samples_leaf': 4, 'min_samples_split': 10, 'n_estimators': 50}"
   ]
  },
  {
   "cell_type": "code",
   "execution_count": 74,
   "metadata": {
    "id": "ynM8jDdN7tO8"
   },
   "outputs": [],
   "source": [
    "cv_scores_mae = []\n",
    "cv_scores_r2 = []\n",
    "\n",
    "for product in moist_productnames_2000:\n",
    "    individual_product_data = moisturizers_reviews_2000[moisturizers_reviews_2000['product_id'] == product]\n",
    "    X = individual_product_data[['skin_tone', 'eye_color', 'skin_type', 'hair_color']]\n",
    "    y = individual_product_data['recommendation_scores']\n",
    "    X_num = pd.get_dummies(X)\n",
    "    \n",
    "    # Create a Random Forest Regressor\n",
    "    rf_regressor = RandomForestRegressor(max_depth = 10, max_features = 'log2', min_samples_leaf = 4, min_samples_split = 10, n_estimators = 50, random_state=0)\n",
    "    \n",
    "    # Use cross_validation to evaluate performance\n",
    "    cv_mae = cross_val_score(rf_regressor, X_num, y, cv=5, scoring='neg_mean_absolute_error')\n",
    "    mean_cv_mae = -np.mean(cv_mae)\n",
    "    cv_scores_mae.append(mean_cv_mae)\n",
    "    \n",
    "    cv_r2 = cross_val_score(rf_regressor, X_num, y, cv=5, scoring='r2')\n",
    "    mean_cv_r2 = -np.mean(cv_r2)\n",
    "    cv_scores_r2.append(mean_cv_r2)\n"
   ]
  },
  {
   "cell_type": "code",
   "execution_count": 75,
   "metadata": {
    "colab": {
     "base_uri": "https://localhost:8080/",
     "height": 204
    },
    "id": "tq-l-xYX8Grv",
    "outputId": "b8ccefe7-9659-4339-cf4a-aa0a668cb3ea"
   },
   "outputs": [
    {
     "data": {
      "text/html": [
       "<div>\n",
       "<style scoped>\n",
       "    .dataframe tbody tr th:only-of-type {\n",
       "        vertical-align: middle;\n",
       "    }\n",
       "\n",
       "    .dataframe tbody tr th {\n",
       "        vertical-align: top;\n",
       "    }\n",
       "\n",
       "    .dataframe thead th {\n",
       "        text-align: right;\n",
       "    }\n",
       "</style>\n",
       "<table border=\"1\" class=\"dataframe\">\n",
       "  <thead>\n",
       "    <tr style=\"text-align: right;\">\n",
       "      <th></th>\n",
       "      <th>product_id</th>\n",
       "      <th>cv_mean_absolute_error</th>\n",
       "      <th>cv_r2</th>\n",
       "    </tr>\n",
       "  </thead>\n",
       "  <tbody>\n",
       "    <tr>\n",
       "      <th>0</th>\n",
       "      <td>P248407</td>\n",
       "      <td>8.934406</td>\n",
       "      <td>0.037643</td>\n",
       "    </tr>\n",
       "    <tr>\n",
       "      <th>1</th>\n",
       "      <td>P394639</td>\n",
       "      <td>6.347472</td>\n",
       "      <td>0.006307</td>\n",
       "    </tr>\n",
       "    <tr>\n",
       "      <th>2</th>\n",
       "      <td>P427421</td>\n",
       "      <td>9.600476</td>\n",
       "      <td>0.023792</td>\n",
       "    </tr>\n",
       "    <tr>\n",
       "      <th>3</th>\n",
       "      <td>P411540</td>\n",
       "      <td>9.559459</td>\n",
       "      <td>0.020188</td>\n",
       "    </tr>\n",
       "    <tr>\n",
       "      <th>4</th>\n",
       "      <td>P394624</td>\n",
       "      <td>6.011192</td>\n",
       "      <td>0.017339</td>\n",
       "    </tr>\n",
       "  </tbody>\n",
       "</table>\n",
       "</div>"
      ],
      "text/plain": [
       "  product_id  cv_mean_absolute_error     cv_r2\n",
       "0    P248407                8.934406  0.037643\n",
       "1    P394639                6.347472  0.006307\n",
       "2    P427421                9.600476  0.023792\n",
       "3    P411540                9.559459  0.020188\n",
       "4    P394624                6.011192  0.017339"
      ]
     },
     "execution_count": 75,
     "metadata": {},
     "output_type": "execute_result"
    }
   ],
   "source": [
    "d = {'product_id': moist_productnames_2000, 'cv_mean_absolute_error': cv_scores_mae, 'cv_r2': cv_scores_r2}\n",
    "rf_model_moisturizers_2000 = pd.DataFrame(data = d)\n",
    "rf_model_moisturizers_2000.head()"
   ]
  },
  {
   "cell_type": "markdown",
   "metadata": {},
   "source": [
    "##### Evaluation of random forest with tuning"
   ]
  },
  {
   "cell_type": "code",
   "execution_count": 76,
   "metadata": {
    "colab": {
     "base_uri": "https://localhost:8080/"
    },
    "id": "esIO-e0w8MQV",
    "outputId": "583b438b-e73e-4254-baf8-eecfcd66eb4b",
    "scrolled": true
   },
   "outputs": [
    {
     "name": "stdout",
     "output_type": "stream",
     "text": [
      "the mean absolute error is  7.237015331834539\n",
      "the r2 is  0.04523727033299155\n"
     ]
    }
   ],
   "source": [
    "print(\"the mean absolute error is \", rf_model_moisturizers_2000['cv_mean_absolute_error'].mean())\n",
    "print(\"the r2 is \", rf_model_moisturizers_2000['cv_r2'].mean())"
   ]
  },
  {
   "cell_type": "markdown",
   "metadata": {
    "id": "GoOZdcsiHx5-"
   },
   "source": [
    "Based on fine-tuning result, it appears that the mean MAE value is lower for the tuned mode, whereas the mean R^2 value is higher for the default mode. "
   ]
  },
  {
   "cell_type": "markdown",
   "metadata": {},
   "source": [
    "## Now we decide on the optimal model. We want to save the models to local disk so that we can retreive them for the recommender function."
   ]
  },
  {
   "cell_type": "code",
   "execution_count": 31,
   "metadata": {},
   "outputs": [],
   "source": [
    "import joblib"
   ]
  },
  {
   "cell_type": "code",
   "execution_count": 32,
   "metadata": {},
   "outputs": [],
   "source": [
    "# create a dummy variable model, this is to make sure all dummy variable are of the same shape\n",
    "for product in moist_productnames_2000[:1]:\n",
    "    individual_product_data = moisturizers_reviews_2000[moisturizers_reviews_2000['product_id'] == product]\n",
    "    X = individual_product_data[['skin_tone', 'eye_color', 'skin_type', 'hair_color']]\n",
    "    y = individual_product_data['recommendation_scores']\n",
    "    X_dummy_model = pd.get_dummies(X)"
   ]
  },
  {
   "cell_type": "code",
   "execution_count": 33,
   "metadata": {},
   "outputs": [],
   "source": [
    "model_save_directory = 'trained_models/'\n",
    "\n",
    "# Create the directory if it doesn't exist\n",
    "import os\n",
    "if not os.path.exists(model_save_directory):\n",
    "    os.makedirs(model_save_directory)"
   ]
  },
  {
   "cell_type": "code",
   "execution_count": 35,
   "metadata": {},
   "outputs": [],
   "source": [
    "for product in moist_productnames_2000:\n",
    "    individual_product_data = moisturizers_reviews_2000[moisturizers_reviews_2000['product_id'] == product]\n",
    "    X = individual_product_data[['skin_tone', 'eye_color', 'skin_type', 'hair_color']]\n",
    "    y = individual_product_data['recommendation_scores']\n",
    "    # One-hot encode the features using pd.get_dummies\n",
    "    X_num = pd.get_dummies(X, columns=X.columns)\n",
    "    # Reorder the columns to match the original X_num DataFrame\n",
    "    X_num = X_num.reindex(columns=X_dummy_model.columns, fill_value=0)\n",
    "    \n",
    "    rf_regressor = RandomForestRegressor(max_depth = 10, max_features = 'log2', min_samples_leaf = 4, min_samples_split = 10, n_estimators = 50, random_state=0)\n",
    "    \n",
    "    # Train the model\n",
    "    rf_regressor.fit(X_num, y)\n",
    "\n",
    "    # Save the trained model with a unique name\n",
    "    model_filename = f'{model_save_directory}model_{product}.joblib'\n",
    "    joblib.dump(rf_regressor, model_filename)"
   ]
  },
  {
   "cell_type": "markdown",
   "metadata": {
    "id": "aao8bPuOMQ59"
   },
   "source": [
    "## Now that we have evaluated our model choice, we can finally build our skincare recommender system."
   ]
  },
  {
   "cell_type": "code",
   "execution_count": 36,
   "metadata": {
    "id": "JHp8-jmdMQI-"
   },
   "outputs": [],
   "source": [
    "def recommender(features):\n",
    "  # List to store predicted scores for each model\n",
    "  predicted_scores = []\n",
    "\n",
    "  # Loop through each product model\n",
    "  for product in moist_productnames_2000:\n",
    "    # Load the trained model\n",
    "    model_filename = f'{model_save_directory}model_{product}.joblib'\n",
    "        \n",
    "    # Check if the model file exists\n",
    "    if os.path.exists(model_filename):\n",
    "        # Load the model\n",
    "        model = joblib.load(model_filename)\n",
    "\n",
    "        # Create a DataFrame from the features\n",
    "        features_df = pd.DataFrame([features])\n",
    "\n",
    "        # One-hot encode the features using pd.get_dummies\n",
    "        features_encoded = pd.get_dummies(features_df, columns=features_df.columns)\n",
    "\n",
    "        # Reorder the columns to match the original X_num DataFrame\n",
    "        features_encoded = features_encoded.reindex(columns=X_dummy_model.columns, fill_value=0)\n",
    "\n",
    "\n",
    "        # Predict the recommendation score\n",
    "        predicted_score = model.predict(features_encoded)\n",
    "        predicted_scores.append((product, predicted_score[0]))\n",
    "\n",
    "  # Select the product with the highest predicted score\n",
    "  if predicted_scores:\n",
    "    recommended_product, _ = max(predicted_scores, key=lambda x: x[1])\n",
    "    return recommended_product\n",
    "  else:\n",
    "    return None"
   ]
  },
  {
   "cell_type": "code",
   "execution_count": 38,
   "metadata": {},
   "outputs": [
    {
     "name": "stdout",
     "output_type": "stream",
     "text": [
      "Recommended Product: P248407\n"
     ]
    }
   ],
   "source": [
    "# Test\n",
    "features = {\n",
    "    'skin_tone': 'fair',\n",
    "    'eye_color': 'brown',\n",
    "    'skin_type': 'dry',\n",
    "    'hair_color': 'brown',\n",
    "}\n",
    "\n",
    "recommended_product = recommender(features)\n",
    "if recommended_product:\n",
    "    print(f\"Recommended Product: {recommended_product}\")\n",
    "else:\n",
    "    print(\"No recommendation available.\")"
   ]
  },
  {
   "cell_type": "code",
   "execution_count": null,
   "metadata": {},
   "outputs": [],
   "source": []
  }
 ],
 "metadata": {
  "accelerator": "GPU",
  "colab": {
   "gpuType": "T4",
   "provenance": []
  },
  "kernelspec": {
   "display_name": "Python 3",
   "language": "python",
   "name": "python3"
  },
  "language_info": {
   "codemirror_mode": {
    "name": "ipython",
    "version": 3
   },
   "file_extension": ".py",
   "mimetype": "text/x-python",
   "name": "python",
   "nbconvert_exporter": "python",
   "pygments_lexer": "ipython3",
   "version": "3.8.8"
  }
 },
 "nbformat": 4,
 "nbformat_minor": 4
}
